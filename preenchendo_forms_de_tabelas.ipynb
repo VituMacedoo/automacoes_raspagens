{
 "cells": [
  {
   "cell_type": "code",
   "execution_count": null,
   "id": "e8519262",
   "metadata": {},
   "outputs": [],
   "source": [
    "from seleniumbase import Driver\n",
    "import pandas as pd\n",
    "from selenium.webdriver.common.by import By\n",
    "from selenium.webdriver.support.wait import WebDriverWait\n",
    "from selenium.common.exceptions import NoSuchElementException\n",
    "import pyautogui as py\n",
    "\n",
    "\n",
    "\n",
    "driver = Driver(uc=True)\n",
    "driver.get(\"https://www.jotform.com/221436066464051\")\n",
    "py.sleep(2)\n",
    "\n"
   ]
  },
  {
   "cell_type": "code",
   "execution_count": null,
   "id": "dcbcc216",
   "metadata": {},
   "outputs": [],
   "source": [
    "df = pd.read_csv(\"\")"
   ]
  },
  {
   "cell_type": "code",
   "execution_count": null,
   "id": "86e03d50",
   "metadata": {},
   "outputs": [],
   "source": [
    "for linha in tabela: \n",
    "    nome = driver.find_element(By.XPATH, \"//input[@id='first_3' and @name='q3_nome[first]']\").send_keys('Vitor')\n",
    "    py.sleep(1)\n",
    "    \n",
    "    sobrenome = driver.find_element(By.XPATH, \"//input[@id='last_3' and @name='q3_nome[last]']\").send_keys('Macedo')\n",
    "    \n",
    "    email = driver.find_element(By.XPATH, \"//input[@id='input_4']\").send_keys('vitoreduardomacedo0@gmail.com')\n",
    "    \n",
    "    #FAZER TRATAMENTO\n",
    "    estado_civil_solteiro = driver.find_element(By.XPATH, \"//select//option[@value='Divorciado(a)']\").click()\n",
    "    \n",
    "    #FAZER TRATAMENTO\n",
    "    cores_input = driver.find_element(By.XPATH, \"//label[@id='label_input_7_0']\").click()\n",
    "    \n",
    "    #FAZER TRATAMENTO\n",
    "    stars = driver.find_element(By.XPATH, f\"//div[@aria-label='{arg}']\")\n",
    "    \n",
    "    #qs no campo qs \n",
    "    qualidade_servico_camp = driver.find_element(By.XPATH, f\"//tr[@aria-labelledby='label_9 label_9_row_0']//td[input[@value='{qualidade_servico}']]\").click()\n",
    "    py.sleep(2)\n",
    "    \n",
    "    #gd no campo gd \n",
    "    grau_dificuldade_camp = driver.find_element(By.XPATH, f\"//tr[@aria-labelledby='label_9 label_9_row_1']//td[input[@value='{grau_dificuldade}']]\").click()\n",
    "    \n",
    "    driver.find_element(By.XPATH, \"//div//button[@id='input_2']\").click()\n",
    "    py.sleep(4)\n",
    "    \n",
    "driver.refresh()\n",
    "py.sleep(2)\n",
    "    \n",
    "    \n",
    "    "
   ]
  },
  {
   "cell_type": "code",
   "execution_count": null,
   "id": "a40ca15d",
   "metadata": {},
   "outputs": [],
   "source": []
  }
 ],
 "metadata": {
  "kernelspec": {
   "display_name": "Python 3 (ipykernel)",
   "language": "python",
   "name": "python3"
  },
  "language_info": {
   "codemirror_mode": {
    "name": "ipython",
    "version": 3
   },
   "file_extension": ".py",
   "mimetype": "text/x-python",
   "name": "python",
   "nbconvert_exporter": "python",
   "pygments_lexer": "ipython3",
   "version": "3.11.5"
  }
 },
 "nbformat": 4,
 "nbformat_minor": 5
}
