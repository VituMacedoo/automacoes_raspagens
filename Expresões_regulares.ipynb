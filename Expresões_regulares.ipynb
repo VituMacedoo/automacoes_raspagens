{
  "nbformat": 4,
  "nbformat_minor": 0,
  "metadata": {
    "colab": {
      "provenance": [],
      "authorship_tag": "ABX9TyNBuRIlTpXdGaGwUWJ6Yxs5",
      "include_colab_link": true
    },
    "kernelspec": {
      "name": "python3",
      "display_name": "Python 3"
    },
    "language_info": {
      "name": "python"
    }
  },
  "cells": [
    {
      "cell_type": "markdown",
      "metadata": {
        "id": "view-in-github",
        "colab_type": "text"
      },
      "source": [
        "<a href=\"https://colab.research.google.com/github/vitormedeiroos/automacoes_raspagens/blob/main/Expres%C3%B5es_regulares.ipynb\" target=\"_parent\"><img src=\"https://colab.research.google.com/assets/colab-badge.svg\" alt=\"Open In Colab\"/></a>"
      ]
    },
    {
      "cell_type": "markdown",
      "source": [
        "    \n",
        "\n",
        "> # Expressões regulares\n",
        "\n",
        "\n",
        "\n",
        "\n",
        "\n",
        "\n",
        "\n",
        "   \n",
        "\n",
        ">  Metacaracteres\n",
        "\n",
        "\n",
        "    .- Qualquer caractere\n",
        "    \\w -Qualquer caractere alfanumérico\n",
        "    \\W -Qualquer caractere não alfanumérico\n",
        "    \\d - Qualquer caractere que seja um dígito (0-9)\n",
        "    \\D - Qualquer caractere não dígito\n",
        "    \\s - espaço em branco\n",
        "    ^ - começa com\n",
        "    $ - termina com\n",
        "    \"\\\" - usado antes de metacaracteres para especificar seu significado literal\n",
        "\n",
        "   > Quantificadores\n",
        "\n",
        "    Permitem determinar como e quantas vezes os metacaracteres aparecem\n",
        "    [] - opcional entre os que estão dentro dos colchetes\n",
        "    () - captura de grupos de caracteres\n",
        "    \"*\" - de zero a mais vezes\n",
        "    ? - zero ou uma vez\n",
        "    '+' - uma ou mais vezes\n",
        "    {m,n} - de m a n vezes\n",
        "\n",
        "\n"
      ],
      "metadata": {
        "id": "ub-WzOyoWLWK"
      }
    },
    {
      "cell_type": "code",
      "execution_count": null,
      "metadata": {
        "id": "QELG-__HV7YG"
      },
      "outputs": [],
      "source": [
        "import re # re- regular expression"
      ]
    },
    {
      "cell_type": "code",
      "source": [
        "frase = \"Olá, meu número de telefone é (42) 00000-0000\""
      ],
      "metadata": {
        "id": "mBFIjkU8WUYd"
      },
      "execution_count": null,
      "outputs": []
    },
    {
      "cell_type": "code",
      "source": [
        "re.search(\"\\(\\d{2}\\)\\d{4,5}-\\d{4}\", frase)"
      ],
      "metadata": {
        "id": "fSVAjT-9Wi39"
      },
      "execution_count": null,
      "outputs": []
    },
    {
      "cell_type": "code",
      "source": [
        "frase = \"A placa do carro é FRT-1198\""
      ],
      "metadata": {
        "id": "UK8ic2VxOlaP"
      },
      "execution_count": null,
      "outputs": []
    },
    {
      "cell_type": "code",
      "source": [
        "re.search(\"[A-Za-z]{3}-\\d{4}\", frase)"
      ],
      "metadata": {
        "colab": {
          "base_uri": "https://localhost:8080/"
        },
        "id": "mOfPmlkAO1z6",
        "outputId": "9b85e059-00e5-4972-e31b-26f4d2d2fe29"
      },
      "execution_count": null,
      "outputs": [
        {
          "output_type": "execute_result",
          "data": {
            "text/plain": [
              "<re.Match object; span=(19, 27), match='FRT-1198'>"
            ]
          },
          "metadata": {},
          "execution_count": 47
        }
      ]
    },
    {
      "cell_type": "code",
      "source": [
        "email = 'Entre em contato , meu email é vitoreduardomacedo0@gmail.com'"
      ],
      "metadata": {
        "id": "uP-HM55_PeYV"
      },
      "execution_count": null,
      "outputs": []
    },
    {
      "cell_type": "code",
      "source": [
        "re.search(\"\\w+@\\w+\\.\\w+\", email)"
      ],
      "metadata": {
        "colab": {
          "base_uri": "https://localhost:8080/"
        },
        "id": "myQWz7oHPnjA",
        "outputId": "6b3eeb72-a607-4993-cb44-e542d704e900"
      },
      "execution_count": null,
      "outputs": [
        {
          "output_type": "execute_result",
          "data": {
            "text/plain": [
              "<re.Match object; span=(31, 60), match='vitoreduardomacedo0@gmail.com'>"
            ]
          },
          "metadata": {},
          "execution_count": 49
        }
      ]
    },
    {
      "cell_type": "markdown",
      "source": [
        "# Função match"
      ],
      "metadata": {
        "id": "ZIjwbBcvQz4c"
      }
    },
    {
      "cell_type": "code",
      "source": [
        "frase2 = \"RTF-1829 é a placa do carro\""
      ],
      "metadata": {
        "id": "sl6tVUiZQ3ih"
      },
      "execution_count": null,
      "outputs": []
    },
    {
      "cell_type": "code",
      "source": [
        "print(re.match('[A-Za-z]{3}-\\d{4}', frase2))"
      ],
      "metadata": {
        "colab": {
          "base_uri": "https://localhost:8080/"
        },
        "id": "PqcLYBldRAOe",
        "outputId": "67d7fbb5-b931-44bb-f199-4e22b2c1cccf"
      },
      "execution_count": null,
      "outputs": [
        {
          "output_type": "stream",
          "name": "stdout",
          "text": [
            "<re.Match object; span=(0, 8), match='RTF-1829'>\n"
          ]
        }
      ]
    },
    {
      "cell_type": "markdown",
      "source": [
        "# Findall"
      ],
      "metadata": {
        "id": "HbOyL1yIRkDN"
      }
    },
    {
      "cell_type": "code",
      "source": [
        "frase3 = \"Meu numero de telefone atual é (42)0000-0000, o meu antigo era (11)3599-8033\""
      ],
      "metadata": {
        "id": "-fA1fRPoRnDc"
      },
      "execution_count": null,
      "outputs": []
    },
    {
      "cell_type": "code",
      "source": [
        "re.findall(\"\\(\\d{2}\\)\\d{4}-\\d{4}\", frase3)"
      ],
      "metadata": {
        "colab": {
          "base_uri": "https://localhost:8080/"
        },
        "id": "jGPpP6kLSww3",
        "outputId": "572030cd-3bd2-477c-915a-e934e8cf7e2a"
      },
      "execution_count": null,
      "outputs": [
        {
          "output_type": "execute_result",
          "data": {
            "text/plain": [
              "['(42)0000-0000', '(11)3599-8033']"
            ]
          },
          "metadata": {},
          "execution_count": 38
        }
      ]
    },
    {
      "cell_type": "code",
      "source": [
        "emails = '''Nome: Teste 1\n",
        "email: teste1@teste.com\n",
        "Nome: Teste 2\n",
        "email: teste2@teste.com\n",
        "Nome: Teste 3\n",
        "email: teste3@teste.com.br\n",
        "'''"
      ],
      "metadata": {
        "id": "rMtvbh_oTlfV"
      },
      "execution_count": null,
      "outputs": []
    },
    {
      "cell_type": "code",
      "source": [
        "re.findall(\"\\w+@\\w+\\.\\w+\", emails)"
      ],
      "metadata": {
        "colab": {
          "base_uri": "https://localhost:8080/"
        },
        "id": "iGsGry3STuXr",
        "outputId": "6d94ea4c-fb92-48cd-f349-c6283beb9856"
      },
      "execution_count": null,
      "outputs": [
        {
          "output_type": "execute_result",
          "data": {
            "text/plain": [
              "['teste1@teste.com', 'teste2@teste.com', 'teste3@teste.com']"
            ]
          },
          "metadata": {},
          "execution_count": 41
        }
      ]
    },
    {
      "cell_type": "code",
      "source": [
        "re.findall('[\\w.+-]+@[\\w-]+\\.[\\w.-]+', emails) #Atualizado 08/02/2022"
      ],
      "metadata": {
        "colab": {
          "base_uri": "https://localhost:8080/"
        },
        "id": "xp6ZU0ukqoaP",
        "outputId": "94f75253-beff-4fed-9912-f01457fd6aeb"
      },
      "execution_count": null,
      "outputs": [
        {
          "output_type": "execute_result",
          "data": {
            "text/plain": [
              "['teste1@teste.com', 'teste2@teste.com', 'teste3@teste.com.br']"
            ]
          },
          "metadata": {},
          "execution_count": 51
        }
      ]
    },
    {
      "cell_type": "code",
      "source": [
        "re.findall('\\w+@\\w+\\.\\w+.?\\w+', emails) #Colaboração/sugestão Eder Marinho Martins"
      ],
      "metadata": {
        "colab": {
          "base_uri": "https://localhost:8080/"
        },
        "id": "66HeeeSZqw84",
        "outputId": "8676317a-0be6-42d3-b658-b497014ed864"
      },
      "execution_count": null,
      "outputs": [
        {
          "output_type": "execute_result",
          "data": {
            "text/plain": [
              "['teste1@teste.com', 'teste2@teste.com', 'teste3@teste.com.br']"
            ]
          },
          "metadata": {},
          "execution_count": 52
        }
      ]
    },
    {
      "cell_type": "markdown",
      "source": [
        "# Exercícios\n",
        "    Crie expressões regulares para extrair as seguintes informações do texto abaixo (use a função findall):\n",
        "    - Números\n",
        "    - CEPs\n",
        "    - URLs\n"
      ],
      "metadata": {
        "id": "NpwoapYNnMzw"
      }
    },
    {
      "cell_type": "code",
      "source": [
        "\n",
        "def format_phone_number(phone_number:int) -> str:#passa o argumento phone_number do tipo string e retorna tipo tipo string\n",
        "    # Remover todos os caracteres que não sejam dígitos\n",
        "    phone_number_str = str(phone_number)\n",
        "    phone_number_str = re.sub(r'\\D', '', phone_number_str)#pega os números não alfanuméricos e substitui pelo espaço\n",
        "    # Formatar o número de telefone\n",
        "    formatted_phone_number = re.sub(r'(\\d{2})(\\d{4,5})(\\d{4})', r'(\\1) \\2-\\3', phone_number_str)#cada expressão dentro do parenteses usando o r representa um módulo, desse modo estamos chamando cada módulo  e colocando os componentes necessários\n",
        "    return formatted_phone_number\n",
        "\n",
        "#Validação e retorno\n",
        "try:\n",
        "\n",
        "  phone_number = int(input('digite o seu número (sem traços): '))\n",
        "  formatted_phone_number = format_phone_number(phone_number)\n",
        "  print(f'Formatted phone number: {formatted_phone_number}')\n",
        "except ValueError:\n",
        "  print(\"Valor Inválido!\")\n"
      ],
      "metadata": {
        "colab": {
          "base_uri": "https://localhost:8080/"
        },
        "id": "L5tGg2-HnPCL",
        "outputId": "4071362e-5a34-41be-9ab3-f3211f8a2584"
      },
      "execution_count": null,
      "outputs": [
        {
          "output_type": "stream",
          "name": "stdout",
          "text": [
            "digite o seu número (sem traços): 11992793986\n",
            "Formatted phone number: (11)99279-3986\n"
          ]
        }
      ]
    },
    {
      "cell_type": "code",
      "source": [
        "re.findall(\"\\(\\d{2}\\)\\s\\d{4,5}-\\d{4}\", formatted_phone_number)"
      ],
      "metadata": {
        "colab": {
          "base_uri": "https://localhost:8080/"
        },
        "id": "ZnvJdBZI8TX2",
        "outputId": "77997802-ba75-4d3c-ad59-89e32d8cd091"
      },
      "execution_count": null,
      "outputs": [
        {
          "output_type": "execute_result",
          "data": {
            "text/plain": [
              "['(11) 99279-3986']"
            ]
          },
          "metadata": {},
          "execution_count": 75
        }
      ]
    },
    {
      "cell_type": "code",
      "source": [
        "def formatar_cep (cep:int) -> str:\n",
        "  cep_formatado_str = str(cep).zfill(8)#preenche com o zero à esquerda -\n",
        "  cep_formatado_str = re.sub(r\"(\\d{5})(\\d{3})\",r'\\1-\\2',cep_formatado_str)\n",
        "  return cep_formatado_str\n",
        "\n",
        "try:\n",
        "  cep = int(input(\"Digite o seu cep:\"))\n",
        "  cep_formatado_str = formatar_cep(cep)\n",
        "except ValueError:\n",
        "  print(\"Valor Inválido\")\n",
        "print(f\"O cep formatado é: {cep_formatado_str}\")"
      ],
      "metadata": {
        "colab": {
          "base_uri": "https://localhost:8080/"
        },
        "id": "uTLCeMzfVrjY",
        "outputId": "385c35de-9ff5-497f-d30d-5ce63decbd2d"
      },
      "execution_count": null,
      "outputs": [
        {
          "output_type": "stream",
          "name": "stdout",
          "text": [
            "Digite o seu cep:06263210\n",
            "O cep formatado é: 06263-210\n"
          ]
        }
      ]
    },
    {
      "cell_type": "code",
      "source": [
        "re.findall(\"\\d{5}\\-\\d{3}\", cep_formatado_str)"
      ],
      "metadata": {
        "colab": {
          "base_uri": "https://localhost:8080/"
        },
        "id": "iPxItDM2NVrj",
        "outputId": "07ba93a0-a405-4c3a-9874-c31999cc2891"
      },
      "execution_count": null,
      "outputs": [
        {
          "output_type": "execute_result",
          "data": {
            "text/plain": [
              "['06263-210']"
            ]
          },
          "metadata": {},
          "execution_count": 15
        }
      ]
    },
    {
      "cell_type": "code",
      "source": [
        "link = 'https://www.youtube.com'\n",
        "re.findall(\"https?://\\w{3}\\.[a-zA-z0-9]+\\.[\\w+]+\", link)"
      ],
      "metadata": {
        "colab": {
          "base_uri": "https://localhost:8080/"
        },
        "id": "VxdF7VJBVBKO",
        "outputId": "95b946f9-e7d1-4136-ed95-ae4bc5415418"
      },
      "execution_count": null,
      "outputs": [
        {
          "output_type": "execute_result",
          "data": {
            "text/plain": [
              "['https://www.youtube.com']"
            ]
          },
          "metadata": {},
          "execution_count": 34
        }
      ]
    },
    {
      "cell_type": "code",
      "source": [],
      "metadata": {
        "colab": {
          "base_uri": "https://localhost:8080/"
        },
        "id": "e-cEWEHRz6Nb",
        "outputId": "221f19f9-2ea4-4094-9739-284a12ec38bc"
      },
      "execution_count": null,
      "outputs": [
        {
          "output_type": "execute_result",
          "data": {
            "text/plain": [
              "['https://www.youtube.com']"
            ]
          },
          "metadata": {},
          "execution_count": 31
        }
      ]
    }
  ]
}