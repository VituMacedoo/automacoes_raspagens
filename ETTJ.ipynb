{
 "cells": [
  {
   "cell_type": "code",
   "execution_count": 1,
   "id": "ed183d4a",
   "metadata": {},
   "outputs": [],
   "source": [
    "import pyautogui as py\n",
    "import time\n",
    "from selenium.webdriver.support.wait import WebDriverWait\n",
    "import time\n",
    "from seleniumbase import Driver\n",
    "from selenium.webdriver.support import expected_conditions as EC\n",
    "from selenium.common.exceptions import NoSuchElementException\n",
    "from selenium.webdriver.common.by import By\n",
    "from selenium.webdriver.common.action_chains import ActionChains\n",
    "import re\n",
    "import os"
   ]
  },
  {
   "cell_type": "code",
   "execution_count": 2,
   "id": "b982bab1",
   "metadata": {},
   "outputs": [],
   "source": [
    "### Montando caminhos // dps fazer as verificações implícitas.\n",
    "###Criar armazenamento de "
   ]
  },
  {
   "cell_type": "code",
   "execution_count": 3,
   "id": "df049f9d",
   "metadata": {},
   "outputs": [],
   "source": [
    "driver  = Driver(uc = True)\n",
    "driver.get(\"https://www.anbima.com.br/pt_br/informar/curvas-de-juros-fechamento.htm\")"
   ]
  },
  {
   "cell_type": "code",
   "execution_count": 4,
   "id": "b52845b3",
   "metadata": {},
   "outputs": [],
   "source": [
    "time.sleep(4)"
   ]
  },
  {
   "cell_type": "markdown",
   "id": "16d31ff8",
   "metadata": {},
   "source": [
    "<input type=\"radio\" value=\"2\" onclick=\"MostraTodasOpcoes(2)\" name=\"escolha\" style=\"margin-bottom:-2px;\">"
   ]
  },
  {
   "cell_type": "code",
   "execution_count": 5,
   "id": "280b6023",
   "metadata": {},
   "outputs": [],
   "source": [
    "iframe = driver.find_element(By. XPATH, \".//iframe[@class='full']\")\n",
    "driver.switch_to.frame(iframe)"
   ]
  },
  {
   "cell_type": "code",
   "execution_count": 6,
   "id": "ce1096f3",
   "metadata": {},
   "outputs": [],
   "source": [
    "bt_down = driver.find_element(By.XPATH, \".//font//input[2][@type='radio']\")\n",
    "#//*[@id=\"cinza50\"]/form/div/fieldset/font/input[2]\n",
    "bt_down.click()\n",
    "time.sleep(2)#dps colocar verificações implícitas..."
   ]
  },
  {
   "cell_type": "code",
   "execution_count": 7,
   "id": "1699e35a",
   "metadata": {},
   "outputs": [],
   "source": [
    "idioma = driver.find_element(By.XPATH, \"//input[contains(@type, 'radio') and contains(@value, 'PT')]\")\n",
    "idioma.click()"
   ]
  },
  {
   "cell_type": "code",
   "execution_count": null,
   "id": "d4ecc461",
   "metadata": {},
   "outputs": [],
   "source": [
    "####caso tenha algunm problema com a  data faça a veificação - perguntar"
   ]
  },
  {
   "cell_type": "code",
   "execution_count": 8,
   "id": "be1f14b9",
   "metadata": {},
   "outputs": [],
   "source": [
    "consultar_imagem = driver.find_element(By.XPATH, \"//img[@src='../img/bt_consultar.gif']\")\n",
    "consultar_imagem.click()"
   ]
  },
  {
   "cell_type": "code",
   "execution_count": null,
   "id": "baaa907d",
   "metadata": {},
   "outputs": [],
   "source": [
    "#data e f {}"
   ]
  },
  {
   "cell_type": "code",
   "execution_count": 12,
   "id": "1f9340ea",
   "metadata": {},
   "outputs": [],
   "source": [
    "data  = driver.find_element(By.XPATH, \"//td//input[@type='text']\")\n",
    "\n"
   ]
  },
  {
   "cell_type": "code",
   "execution_count": 15,
   "id": "9ca28961",
   "metadata": {},
   "outputs": [
    {
     "name": "stdout",
     "output_type": "stream",
     "text": [
      "16/01/2024\n"
     ]
    }
   ],
   "source": [
    "data_element = driver.find_element(By.XPATH, \"//td/input[@type='text']\")\n",
    "data_value = data_element.get_attribute(\"value\")\n",
    "print(data_value)"
   ]
  },
  {
   "cell_type": "code",
   "execution_count": 17,
   "id": "a69aa910",
   "metadata": {},
   "outputs": [],
   "source": [
    "padrao_data = r\"(\\d{2})/(\\d{2})/(\\d{4})\"\n",
    "dia, mes, ano = re.findall(padrao_data, data_value)[0]"
   ]
  },
  {
   "cell_type": "code",
   "execution_count": 18,
   "id": "1eacc459",
   "metadata": {},
   "outputs": [
    {
     "name": "stdout",
     "output_type": "stream",
     "text": [
      "16 01 2024\n"
     ]
    }
   ],
   "source": [
    "print(dia, mes, ano)"
   ]
  },
  {
   "cell_type": "code",
   "execution_count": 22,
   "id": "d338b018",
   "metadata": {},
   "outputs": [
    {
     "name": "stdout",
     "output_type": "stream",
     "text": [
      "CurvaZero_16012024.xls\n"
     ]
    }
   ],
   "source": [
    "arquivo_final = f\"CurvaZero_{dia}{mes}{ano}.xls\"\n",
    "print(arquivo_final)"
   ]
  },
  {
   "cell_type": "code",
   "execution_count": 21,
   "id": "abc1bc8c",
   "metadata": {
    "scrolled": true
   },
   "outputs": [
    {
     "name": "stdout",
     "output_type": "stream",
     "text": [
      "['CurvaZero_16012024 (1).xls', 'CurvaZero_16012024 (2).xls', 'CurvaZero_16012024.xls', 'driver_fixing.lock']\n"
     ]
    }
   ],
   "source": [
    "#fazer verificação caso o nome do arquivo mude internamente(site) - - enviar notificação ou emitir sons\n",
    "diretorio = os.listdir(\"C:\\\\Users\\\\vitor\\\\automaçoes\\\\automacoes_raspagens\\\\downloaded_files\")\n",
    "print(diretorio)"
   ]
  },
  {
   "cell_type": "code",
   "execution_count": 23,
   "id": "87bcbd92",
   "metadata": {},
   "outputs": [],
   "source": [
    "novo_caminho = f\"C:\\\\Users\\\\vitor\\\\Downloads\\\\{arquivo_final}\"#verificar depois"
   ]
  },
  {
   "cell_type": "code",
   "execution_count": 25,
   "id": "83bc4d4f",
   "metadata": {
    "scrolled": false
   },
   "outputs": [
    {
     "name": "stdout",
     "output_type": "stream",
     "text": [
      "['CurvaZero_16012024 (1).xls', 'CurvaZero_16012024 (2).xls', 'CurvaZero_16012024.xls', 'driver_fixing.lock']\\CurvaZero_16012024.xls\n"
     ]
    }
   ],
   "source": [
    "diretorio_antigo = f\"{diretorio}\\\\{arquivo_final}\"\n",
    "print(diretorio_antigo)"
   ]
  },
  {
   "cell_type": "code",
   "execution_count": null,
   "id": "0edc98df",
   "metadata": {},
   "outputs": [],
   "source": [
    "\"CurvaZero_16012024.xls\""
   ]
  },
  {
   "cell_type": "code",
   "execution_count": 31,
   "id": "92c0aa48",
   "metadata": {},
   "outputs": [
    {
     "name": "stdout",
     "output_type": "stream",
     "text": [
      "Não deu!\n",
      "Não deu!\n",
      "Arquivo renomeado com sucesso!\n",
      "Não deu!\n"
     ]
    }
   ],
   "source": [
    "novo_caminho = os.path.join(\"C:\\\\Users\\\\vitor\\\\Downloads\", arquivo_final)\n",
    "\n",
    "for i in diretorio:\n",
    "    if i == arquivo_final:\n",
    "        caminho_original = os.path.join(\"C:\\\\Users\\\\vitor\\\\automaçoes\\\\automacoes_raspagens\\\\downloaded_files\", i)\n",
    "        os.rename(caminho_original, novo_caminho)\n",
    "        print(\"Arquivo renomeado com sucesso!\")\n",
    "    else:\n",
    "        print(\"Não deu!\")"
   ]
  },
  {
   "cell_type": "code",
   "execution_count": null,
   "id": "99d71c7b",
   "metadata": {},
   "outputs": [],
   "source": []
  }
 ],
 "metadata": {
  "kernelspec": {
   "display_name": "Python 3 (ipykernel)",
   "language": "python",
   "name": "python3"
  },
  "language_info": {
   "codemirror_mode": {
    "name": "ipython",
    "version": 3
   },
   "file_extension": ".py",
   "mimetype": "text/x-python",
   "name": "python",
   "nbconvert_exporter": "python",
   "pygments_lexer": "ipython3",
   "version": "3.11.5"
  }
 },
 "nbformat": 4,
 "nbformat_minor": 5
}
