{
 "cells": [
  {
   "cell_type": "code",
   "execution_count": 1,
   "id": "41a64192",
   "metadata": {},
   "outputs": [],
   "source": [
    "import pyautogui as py\n",
    "import time\n",
    "from selenium.webdriver.support.wait import WebDriverWait\n",
    "import time\n",
    "from seleniumbase import Driver\n",
    "from selenium.webdriver.support import expected_conditions as EC\n",
    "from selenium.common.exceptions import NoSuchElementException\n",
    "from selenium.webdriver.common.by import By\n",
    "from selenium.webdriver.common.action_chains import ActionChains\n",
    "import re\n",
    "import os"
   ]
  },
  {
   "cell_type": "code",
   "execution_count": 2,
   "id": "0fbb6b84",
   "metadata": {},
   "outputs": [],
   "source": [
    "driver.get(\"https://www.anbima.com.br/pt_br/informar/taxas-de-titulos-publicos.htm\")\n"
   ]
  },
  {
   "cell_type": "code",
   "execution_count": 3,
   "id": "d4d7216d",
   "metadata": {},
   "outputs": [],
   "source": [
    "time.sleep(1)\n",
    "\n",
    "#migrando para o iframe\n",
    "iframe = driver.find_element(By.XPATH, \"//iframe[@class= 'full']\")\n",
    "driver.switch_to.frame(iframe)\n",
    "\n",
    "\n",
    "consultar_imagem = driver.find_element(By.XPATH, \"//img[@src='../img/bt_consultar.gif']\")\n",
    "consultar_imagem.click()\n"
   ]
  },
  {
   "cell_type": "code",
   "execution_count": 4,
   "id": "347a57e7",
   "metadata": {},
   "outputs": [],
   "source": [
    "time.sleep(3)\n",
    "arquivo = driver.find_element(By.CSS_SELECTOR, \"a[href$='.xls']\")\n",
    "arquivo.click()"
   ]
  },
  {
   "cell_type": "code",
   "execution_count": 11,
   "id": "d303c8cb",
   "metadata": {},
   "outputs": [
    {
     "name": "stdout",
     "output_type": "stream",
     "text": [
      "https://www.anbima.com.br/informacoes/merc-sec/arqs/m24jan15.xls\n"
     ]
    }
   ],
   "source": [
    "#PEGA O LINK E EXTRAI O NOME DO ARQUIVO\n",
    "elemento_link = driver.find_element(By.CSS_SELECTOR, \"a[href$='.xls']\")\n",
    "link = elemento_link.get_attribute(\"href\")\n",
    "print(link)"
   ]
  },
  {
   "cell_type": "code",
   "execution_count": 17,
   "id": "9112249f",
   "metadata": {},
   "outputs": [
    {
     "name": "stdout",
     "output_type": "stream",
     "text": [
      "m24jan15.xls\n"
     ]
    }
   ],
   "source": [
    "#USA COMO BASE PARA CRIAR O NOME DO ARQUIVO Q VAI SER SALVADO\n",
    "\n",
    "nome_arquivo = link.split(\"/\")[-1]\n",
    "print(nome_arquivo)"
   ]
  },
  {
   "cell_type": "markdown",
   "id": "99c1f947",
   "metadata": {},
   "source": [
    "\n",
    "data = re.search(r'm\\d{2}\\w{3}\\d{2}', nome_arquivo)\n",
    "print(data)"
   ]
  },
  {
   "cell_type": "code",
   "execution_count": 24,
   "id": "aa4bfac0",
   "metadata": {},
   "outputs": [],
   "source": [
    "#Extraindo as datas - atentar nas métricas\n",
    "\n",
    "padrao_data = r\"m(\\d{2})([a-z]{3})(\\d{2})\"\n",
    "ano, mes, dia = re.findall(padrao_data, nome_arquivo)[0]"
   ]
  },
  {
   "cell_type": "code",
   "execution_count": 34,
   "id": "b5c014c8",
   "metadata": {},
   "outputs": [],
   "source": [
    "def data():\n",
    "    data_ext = {\n",
    "        'jan': '01',\n",
    "        'fev': '02',\n",
    "        'mar': '03',\n",
    "        'abr': '04',\n",
    "        'mai': '05',\n",
    "        'jun': '06',\n",
    "        'jul': '07',\n",
    "        'ago': '08',\n",
    "        'set': '09',\n",
    "        'out': '10',\n",
    "        'nov': '11',\n",
    "        'dez': '12'        \n",
    "    }\n",
    "    \n",
    "    if mes in data_ext:\n",
    "        mes_num = data_ext[mes]\n",
    "        return f\"{dia} {mes_num} 20{ano}\"\n",
    "    \n",
    "    \n",
    "    \n",
    "    return print('Não foi meu pequeno gafanhoto!') "
   ]
  },
  {
   "cell_type": "code",
   "execution_count": 35,
   "id": "54e99dd4",
   "metadata": {},
   "outputs": [
    {
     "name": "stdout",
     "output_type": "stream",
     "text": [
      "15 01 2024\n"
     ]
    }
   ],
   "source": [
    "data_form = data()\n",
    "print(data_form)"
   ]
  },
  {
   "cell_type": "code",
   "execution_count": 30,
   "id": "49e8fb1b",
   "metadata": {
    "scrolled": false
   },
   "outputs": [
    {
     "name": "stdout",
     "output_type": "stream",
     "text": [
      "['driver_fixing.lock', 'm24jan12.xls', 'm24jan15.xls']\n"
     ]
    }
   ],
   "source": [
    "diretorio = os.listdir(\"C:\\\\Users\\\\vitor\\\\Downloads\\\\downloaded_files\")\n",
    "print(diretorio)"
   ]
  },
  {
   "cell_type": "code",
   "execution_count": 31,
   "id": "d7f19d3e",
   "metadata": {
    "scrolled": true
   },
   "outputs": [
    {
     "name": "stdout",
     "output_type": "stream",
     "text": [
      "C:\\Users\\vitor\\Downloads\\downloaded_files\\m24jan15.xls\n"
     ]
    }
   ],
   "source": [
    "caminho_arq_baixado = (f\"C:\\\\Users\\\\vitor\\\\Downloads\\\\downloaded_files\\\\{nome_arquivo}\")\n",
    "print(caminho_arq_baixado)"
   ]
  },
  {
   "cell_type": "code",
   "execution_count": 36,
   "id": "307287c0",
   "metadata": {},
   "outputs": [
    {
     "name": "stdout",
     "output_type": "stream",
     "text": [
      "C:\\Users\\vitor\\Downloads\\estagio_genial\\PU ANBIMA - 15 01 2024.xls\n"
     ]
    }
   ],
   "source": [
    "novo_nome_arquivo = f\"PU ANBIMA - {data_form}.xls\"\n",
    "novo_caminho_arquivo = (f\"C:\\\\Users\\\\vitor\\\\Downloads\\\\estagio_genial\\\\{novo_nome_arquivo}\")\n",
    "print(novo_caminho_arquivo)"
   ]
  },
  {
   "cell_type": "code",
   "execution_count": 37,
   "id": "b024cb4f",
   "metadata": {},
   "outputs": [],
   "source": [
    "os.rename(caminho_arq_baixado, novo_caminho_arquivo)"
   ]
  },
  {
   "cell_type": "markdown",
   "id": "c579bdee",
   "metadata": {},
   "source": [
    "####COLOCAR ESPERAS IMPLICITAS EM CD FIND-- "
   ]
  }
 ],
 "metadata": {
  "kernelspec": {
   "display_name": "Python 3 (ipykernel)",
   "language": "python",
   "name": "python3"
  },
  "language_info": {
   "codemirror_mode": {
    "name": "ipython",
    "version": 3
   },
   "file_extension": ".py",
   "mimetype": "text/x-python",
   "name": "python",
   "nbconvert_exporter": "python",
   "pygments_lexer": "ipython3",
   "version": "3.11.5"
  }
 },
 "nbformat": 4,
 "nbformat_minor": 5
}
