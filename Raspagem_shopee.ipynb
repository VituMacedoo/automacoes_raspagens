{
 "cells": [
  {
   "cell_type": "code",
   "execution_count": 1,
   "id": "015589e3",
   "metadata": {},
   "outputs": [
    {
     "name": "stdout",
     "output_type": "stream",
     "text": [
      "Requirement already satisfied: selenium in c:\\users\\vitor\\anaconda3\\lib\\site-packages (4.13.0)\n",
      "Requirement already satisfied: urllib3[socks]<3,>=1.26 in c:\\users\\vitor\\anaconda3\\lib\\site-packages (from selenium) (1.26.11)\n",
      "Requirement already satisfied: certifi>=2021.10.8 in c:\\users\\vitor\\anaconda3\\lib\\site-packages (from selenium) (2022.9.14)\n",
      "Requirement already satisfied: trio~=0.17 in c:\\users\\vitor\\anaconda3\\lib\\site-packages (from selenium) (0.22.2)\n",
      "Requirement already satisfied: trio-websocket~=0.9 in c:\\users\\vitor\\anaconda3\\lib\\site-packages (from selenium) (0.10.3)\n",
      "Requirement already satisfied: sniffio in c:\\users\\vitor\\anaconda3\\lib\\site-packages (from trio~=0.17->selenium) (1.2.0)\n",
      "Requirement already satisfied: idna in c:\\users\\vitor\\anaconda3\\lib\\site-packages (from trio~=0.17->selenium) (3.3)\n",
      "Requirement already satisfied: exceptiongroup>=1.0.0rc9 in c:\\users\\vitor\\anaconda3\\lib\\site-packages (from trio~=0.17->selenium) (1.1.3)\n",
      "Requirement already satisfied: sortedcontainers in c:\\users\\vitor\\anaconda3\\lib\\site-packages (from trio~=0.17->selenium) (2.4.0)\n",
      "Requirement already satisfied: attrs>=20.1.0 in c:\\users\\vitor\\anaconda3\\lib\\site-packages (from trio~=0.17->selenium) (21.4.0)\n",
      "Requirement already satisfied: outcome in c:\\users\\vitor\\anaconda3\\lib\\site-packages (from trio~=0.17->selenium) (1.2.0)\n",
      "Requirement already satisfied: cffi>=1.14 in c:\\users\\vitor\\anaconda3\\lib\\site-packages (from trio~=0.17->selenium) (1.15.1)\n",
      "Requirement already satisfied: wsproto>=0.14 in c:\\users\\vitor\\anaconda3\\lib\\site-packages (from trio-websocket~=0.9->selenium) (1.2.0)\n",
      "Requirement already satisfied: PySocks!=1.5.7,<2.0,>=1.5.6 in c:\\users\\vitor\\anaconda3\\lib\\site-packages (from urllib3[socks]<3,>=1.26->selenium) (1.7.1)\n",
      "Requirement already satisfied: pycparser in c:\\users\\vitor\\anaconda3\\lib\\site-packages (from cffi>=1.14->trio~=0.17->selenium) (2.21)\n",
      "Requirement already satisfied: h11<1,>=0.9.0 in c:\\users\\vitor\\anaconda3\\lib\\site-packages (from wsproto>=0.14->trio-websocket~=0.9->selenium) (0.14.0)\n",
      "Note: you may need to restart the kernel to use updated packages.\n"
     ]
    }
   ],
   "source": [
    "pip install -U selenium"
   ]
  },
  {
   "cell_type": "code",
   "execution_count": 2,
   "id": "479650a1",
   "metadata": {},
   "outputs": [],
   "source": [
    "from bs4 import BeautifulSoup\n",
    "from selenium import webdriver\n",
    "from selenium.webdriver.chrome.options import Options\n",
    "from selenium.webdriver.support.ui import WebDriverWait\n",
    "from selenium.common.exceptions import TimeoutException\n",
    "from time import sleep"
   ]
  },
  {
   "cell_type": "code",
   "execution_count": 3,
   "id": "d29505e3",
   "metadata": {},
   "outputs": [],
   "source": [
    "chrome_options = Options()\n",
    "base_url = 'https://shopee.com.br/search?keyword=COBERTURA%20BLINDADA%20TRAT%20NATI'"
   ]
  },
  {
   "cell_type": "code",
   "execution_count": 4,
   "id": "02fdab12",
   "metadata": {
    "scrolled": true
   },
   "outputs": [],
   "source": [
    "# define as opções do driver do Chrome para desativar qualquer pop-up do site\n",
    "# para encontrar o caminho local para o perfil do Chrome, abra o navegador Chrome\n",
    "# e na barra de endereço digite \"chrome://version\"\n",
    "chrome_options.add_argument('disable-notifications')\n",
    "chrome_options.add_argument('--disable-infobars')\n",
    "chrome_options.add_argument('start-maximized')\n",
    "chrome_options.add_argument('user-data-dirC:\\\\Users\\\\vitor\\\\AppData\\\\Local\\\\Google\\\\Chrome\\\\User Data\\\\Default')\n",
    "#Para desativar a mensagem \"O Chrome está sendo controlado por software de teste automatizado\"\n",
    "chrome_options.add_argument(\"disable-infobars\")"
   ]
  },
  {
   "cell_type": "code",
   "execution_count": 5,
   "id": "50c6d982",
   "metadata": {},
   "outputs": [],
   "source": [
    "#Passe o argumento 1 para permitir e 2 para bloquear\n",
    "chrome_options.add_experimental_option(\"prefs\", { \n",
    "    \"profile.default_content_setting_values.notifications\": 2\n",
    "    })\n",
    "#function: add_experimental_option('opção', {\"descrição da preferência\"})\n",
    "#prefs: opções experimentais permitem configurar recursos avançados ou comportamentais do navegador.\n",
    "#\"profile.default_content_setting_values.notifications\" controla as configurações de notificações do navegador. O valor 2 indica que as notificações devem ser bloqueadas.\n"
   ]
  },
  {
   "cell_type": "code",
   "execution_count": 6,
   "id": "fd304f9c",
   "metadata": {},
   "outputs": [],
   "source": [
    "caminho_driver = f\"C:\\\\Users\\\\vitor\\\\OneDrive - Fatec Centro Paula Souza\\\\Desktop\\\\chrome_driver\\\\chromedriver-win32\\\\chromedriver.exe\""
   ]
  },
  {
   "cell_type": "code",
   "execution_count": 7,
   "id": "b0bfe66a",
   "metadata": {},
   "outputs": [],
   "source": [
    "import os"
   ]
  },
  {
   "cell_type": "code",
   "execution_count": 8,
   "id": "88bfc49a",
   "metadata": {},
   "outputs": [],
   "source": [
    "# Adicione o diretório do driver ao PATH do sistema\n",
    "os.environ[\"PATH\"] += os.pathsep + caminho_driver\n",
    "\n",
    "# Crie uma instância do webdriver do Chrome usando apenas as opções\n",
    "browser = webdriver.Chrome(options=chrome_options)"
   ]
  },
  {
   "cell_type": "code",
   "execution_count": 9,
   "id": "0cb00631",
   "metadata": {},
   "outputs": [],
   "source": [
    "browser.set_window_size(1300,800)\n",
    "browser.get(base_url)\n",
    "delay = 5 #secods"
   ]
  },
  {
   "cell_type": "code",
   "execution_count": 10,
   "id": "bfaf7244",
   "metadata": {},
   "outputs": [],
   "source": [
    "total_precos, qtd_vendida, locais = [], [], []\n",
    "total_nomes = []\n"
   ]
  },
  {
   "cell_type": "code",
   "execution_count": 11,
   "id": "07f788a1",
   "metadata": {
    "scrolled": true
   },
   "outputs": [
    {
     "data": {
      "text/plain": [
       "'while True:\\n    try:\\n        WebDriverWait(browser, delay)\\n        print (\"Page is ready\")\\n        sleep(5)\\n        \\n        html = browser.execute_script(\"return document.getElementsByTagName(\\'html\\')[0].innerHTML\")\\n        #print(html)\\n        soup = BeautifulSoup(html, \"html.parser\")\\n        \\n        for item_nome in soup.find_all(\\'div\\', class_=\\'VTjd7p whIxGK\\'):\\n            print(item_nome.get_text())\\n            total_nomes.append(item_nome.text)\\n    except:\\n        print(\"Erro!\")'"
      ]
     },
     "execution_count": 11,
     "metadata": {},
     "output_type": "execute_result"
    }
   ],
   "source": [
    "'''while True:\n",
    "    try:\n",
    "        WebDriverWait(browser, delay)\n",
    "        print (\"Page is ready\")\n",
    "        sleep(5)\n",
    "        \n",
    "        html = browser.execute_script(\"return document.getElementsByTagName('html')[0].innerHTML\")\n",
    "        #print(html)\n",
    "        soup = BeautifulSoup(html, \"html.parser\")\n",
    "        \n",
    "        for item_nome in soup.find_all('div', class_='VTjd7p whIxGK'):\n",
    "            print(item_nome.get_text())\n",
    "            total_nomes.append(item_nome.text)\n",
    "    except:\n",
    "        print(\"Erro!\")'''\n",
    "        \n",
    "        \n",
    "        "
   ]
  },
  {
   "cell_type": "code",
   "execution_count": 14,
   "id": "da71c59a",
   "metadata": {},
   "outputs": [],
   "source": [
    "from selenium.webdriver.common.by import By"
   ]
  },
  {
   "cell_type": "code",
   "execution_count": 15,
   "id": "1b0bcd5e",
   "metadata": {},
   "outputs": [
    {
     "name": "stdout",
     "output_type": "stream",
     "text": [
      "Page is ready\n"
     ]
    },
    {
     "ename": "AttributeError",
     "evalue": "'WebDriver' object has no attribute 'find_element_by_class'",
     "output_type": "error",
     "traceback": [
      "\u001b[1;31m---------------------------------------------------------------------------\u001b[0m",
      "\u001b[1;31mAttributeError\u001b[0m                            Traceback (most recent call last)",
      "\u001b[1;32m~\\AppData\\Local\\Temp\\ipykernel_20612\\4254765855.py\u001b[0m in \u001b[0;36m<module>\u001b[1;34m\u001b[0m\n\u001b[0;32m     13\u001b[0m \u001b[1;33m\u001b[0m\u001b[0m\n\u001b[0;32m     14\u001b[0m \u001b[1;31m# Envie o formulário de login\u001b[0m\u001b[1;33m\u001b[0m\u001b[1;33m\u001b[0m\u001b[0m\n\u001b[1;32m---> 15\u001b[1;33m \u001b[0mlogin_button\u001b[0m \u001b[1;33m=\u001b[0m \u001b[0mbrowser\u001b[0m\u001b[1;33m.\u001b[0m\u001b[0mfind_element_by_class\u001b[0m\u001b[1;33m(\u001b[0m\u001b[1;34m\"wyhvVD _1EApiB hq6WM5 L-VL8Q cepDQ1 _7w24N1\"\u001b[0m\u001b[1;33m)\u001b[0m\u001b[1;33m\u001b[0m\u001b[1;33m\u001b[0m\u001b[0m\n\u001b[0m\u001b[0;32m     16\u001b[0m \u001b[0mlogin_button\u001b[0m\u001b[1;33m.\u001b[0m\u001b[0mclick\u001b[0m\u001b[1;33m(\u001b[0m\u001b[1;33m)\u001b[0m\u001b[1;33m\u001b[0m\u001b[1;33m\u001b[0m\u001b[0m\n",
      "\u001b[1;31mAttributeError\u001b[0m: 'WebDriver' object has no attribute 'find_element_by_class'"
     ]
    }
   ],
   "source": [
    "WebDriverWait(browser, delay)\n",
    "print (\"Page is ready\")\n",
    "sleep(5)\n",
    "\n",
    "\n",
    "# Encontre os campos de entrada de usuário e senha\n",
    "username_input = browser.find_element(By.NAME, \"loginKey\")\n",
    "password_input = browser.find_element(By.NAME, \"password\")\n",
    "\n",
    "# Preencha os campos com suas credenciais\n",
    "username_input.send_keys(\"vitoreduardomacedo0@gmail.com\")\n",
    "password_input.send_keys(\"Sma@rt19\")\n",
    "\n"
   ]
  },
  {
   "cell_type": "code",
   "execution_count": 20,
   "id": "5eb2fe1f",
   "metadata": {},
   "outputs": [
    {
     "ename": "AttributeError",
     "evalue": "'WebDriver' object has no attribute 'find_element_by_xpath'",
     "output_type": "error",
     "traceback": [
      "\u001b[1;31m---------------------------------------------------------------------------\u001b[0m",
      "\u001b[1;31mAttributeError\u001b[0m                            Traceback (most recent call last)",
      "\u001b[1;32m~\\AppData\\Local\\Temp\\ipykernel_20612\\3318186584.py\u001b[0m in \u001b[0;36m<module>\u001b[1;34m\u001b[0m\n\u001b[0;32m      1\u001b[0m \u001b[1;31m# Envie o formulário de login\u001b[0m\u001b[1;33m\u001b[0m\u001b[1;33m\u001b[0m\u001b[0m\n\u001b[1;32m----> 2\u001b[1;33m \u001b[0mlogin_button\u001b[0m \u001b[1;33m=\u001b[0m \u001b[0mbrowser\u001b[0m\u001b[1;33m.\u001b[0m\u001b[0mfind_element_by_xpath\u001b[0m\u001b[1;33m(\u001b[0m\u001b[1;34m\"/html/body/div[\"\u001b[0m\u001b[1;33m)\u001b[0m\u001b[1;33m\u001b[0m\u001b[1;33m\u001b[0m\u001b[0m\n\u001b[0m\u001b[0;32m      3\u001b[0m \u001b[0mlogin_button\u001b[0m\u001b[1;33m.\u001b[0m\u001b[0mclick\u001b[0m\u001b[1;33m(\u001b[0m\u001b[1;33m)\u001b[0m\u001b[1;33m\u001b[0m\u001b[1;33m\u001b[0m\u001b[0m\n",
      "\u001b[1;31mAttributeError\u001b[0m: 'WebDriver' object has no attribute 'find_element_by_xpath'"
     ]
    }
   ],
   "source": [
    "# Envie o formulário de login\n",
    "login_button = browser.find_element_by_xpath(\"/html/body/div[\")\n",
    "login_button.click()"
   ]
  },
  {
   "cell_type": "code",
   "execution_count": null,
   "id": "2ec742a6",
   "metadata": {},
   "outputs": [],
   "source": [
    "\n",
    "\n",
    "# Aguarde o redirecionamento após o login\n",
    "driver.implicitly_wait(5)  # Aguarde 5 segundos\n",
    "\n",
    "# Obtenha o HTML da página após o login\n",
    "html = driver.page_source\n",
    "\n",
    "\n",
    "        \n",
    "html = browser.execute_script(\"return document.getElementsByTagName('html')[0].innerHTML\")\n",
    "#print(html)\n",
    "soup = BeautifulSoup(html, \"html.parser\")"
   ]
  },
  {
   "cell_type": "code",
   "execution_count": null,
   "id": "fe5dd050",
   "metadata": {},
   "outputs": [],
   "source": [
    "print(soup)"
   ]
  },
  {
   "cell_type": "code",
   "execution_count": null,
   "id": "208c762b",
   "metadata": {},
   "outputs": [],
   "source": []
  }
 ],
 "metadata": {
  "kernelspec": {
   "display_name": "Python 3 (ipykernel)",
   "language": "python",
   "name": "python3"
  },
  "language_info": {
   "codemirror_mode": {
    "name": "ipython",
    "version": 3
   },
   "file_extension": ".py",
   "mimetype": "text/x-python",
   "name": "python",
   "nbconvert_exporter": "python",
   "pygments_lexer": "ipython3",
   "version": "3.11.5"
  }
 },
 "nbformat": 4,
 "nbformat_minor": 5
}
