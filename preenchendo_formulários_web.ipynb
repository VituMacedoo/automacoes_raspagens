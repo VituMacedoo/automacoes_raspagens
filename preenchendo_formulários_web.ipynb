{
 "cells": [
  {
   "cell_type": "code",
   "execution_count": 1,
   "id": "d33e79a4",
   "metadata": {},
   "outputs": [],
   "source": [
    "from seleniumbase import Driver\n",
    "import pandas as pd\n",
    "from selenium.webdriver.common.by import By\n",
    "from selenium.webdriver.support.wait import WebDriverWait\n",
    "from selenium.common.exceptions import NoSuchElementException\n",
    "import pyautogui as py\n",
    "\n",
    "\n",
    "\n",
    "driver = Driver(uc=True)\n",
    "driver.get(\"https://www.jotform.com/221436066464051\")\n",
    "py.sleep(2)\n"
   ]
  },
  {
   "cell_type": "code",
   "execution_count": 57,
   "id": "fc51b53c",
   "metadata": {},
   "outputs": [],
   "source": [
    "nome = driver.find_element(By.XPATH, \"//input[@id='first_3' and @name='q3_nome[first]']\").send_keys('Vitor')\n",
    "py.sleep(1)"
   ]
  },
  {
   "cell_type": "code",
   "execution_count": 58,
   "id": "42cdff54",
   "metadata": {},
   "outputs": [],
   "source": [
    "sobrenome = driver.find_element(By.XPATH, \"//input[@id='last_3' and @name='q3_nome[last]']\").send_keys('Macedo')"
   ]
  },
  {
   "cell_type": "code",
   "execution_count": 59,
   "id": "c340a618",
   "metadata": {},
   "outputs": [],
   "source": [
    "import re"
   ]
  },
  {
   "cell_type": "code",
   "execution_count": 60,
   "id": "64e9af79",
   "metadata": {
    "scrolled": true
   },
   "outputs": [
    {
     "data": {
      "text/plain": [
       "\"\\n#validaçao do email: no site já tem...\\ndef validar_email(email):\\n    padrao = r'^[a-zA-Z0-9._%+-]+@[a-zA-Z0-9.-]+\\\\.[a-zA-Z]{2,}$'\\n    return re.match(padrao, email) is not None\\nif validar_email(email):\\n    print('Email válido')\\n    \\nelse:\\n    print('Email Inválido')\""
      ]
     },
     "execution_count": 60,
     "metadata": {},
     "output_type": "execute_result"
    }
   ],
   "source": [
    "email = driver.find_element(By.XPATH, \"//input[@id='input_4']\").send_keys('vitoreduardomacedo0@gmail.com')\n",
    "\"\"\"\n",
    "#validaçao do email: no site já tem...\n",
    "def validar_email(email):\n",
    "    padrao = r'^[a-zA-Z0-9._%+-]+@[a-zA-Z0-9.-]+\\.[a-zA-Z]{2,}$'\n",
    "    return re.match(padrao, email) is not None\n",
    "if validar_email(email):\n",
    "    print('Email válido')\n",
    "    \n",
    "else:\n",
    "    print('Email Inválido')\"\"\""
   ]
  },
  {
   "cell_type": "code",
   "execution_count": 61,
   "id": "d6036954",
   "metadata": {
    "scrolled": true
   },
   "outputs": [
    {
     "name": "stdout",
     "output_type": "stream",
     "text": [
      "Digite o seu estado civil: S - Solteiro(a) , C - Casado(a), D- Divorciado(a), V - Viuvo(a): \n",
      "NoneC\n"
     ]
    }
   ],
   "source": [
    "estado_civil= input(print('Digite o seu estado civil: S - Solteiro(a) , C - Casado(a), D- Divorciado(a), V - Viuvo(a): '))"
   ]
  },
  {
   "cell_type": "code",
   "execution_count": 62,
   "id": "f228dfcd",
   "metadata": {},
   "outputs": [],
   "source": [
    "if estado_civil == 'S' or estado_civil == 's':\n",
    "    estado_civil_solteiro = driver.find_element(By.XPATH, \"//select//option[@value='Solteiro(a)']\").click()\n",
    "elif estado_civil == 'C' or estado_civil == 'c':\n",
    "    estado_civil_casado = driver.find_element(By.XPATH, \"//select//option[@value='Casado(a)']\").click()\n",
    "elif estado_civil == 'D' or estado_civil == 'd':\n",
    "    estado_civil_solteiro = driver.find_element(By.XPATH, \"//select//option[@value='Divorciado(a)']\").click()\n",
    "elif estado_civil == 'V' or estado_civil == 'v':\n",
    "    estado_civil_solteiro = driver.find_element(By.XPATH, \"//select//option[@value='Viuvo(a)']\").click()\n",
    "else:\n",
    "    print(\"Tente Novamente!\")"
   ]
  },
  {
   "cell_type": "code",
   "execution_count": 65,
   "id": "8b9f2a16",
   "metadata": {
    "scrolled": true
   },
   "outputs": [
    {
     "name": "stdout",
     "output_type": "stream",
     "text": [
      "Tem filhos: S - Sim , N - Não: \n",
      "NoneN\n"
     ]
    }
   ],
   "source": [
    "filhos= input(print('Tem filhos: S - Sim , N - Não: '))\n",
    "if filhos == \"S\":\n",
    "    filhos_input = driver.find_element(By.XPATH, \"//label[@id='label_input_6_0']\").click()\n",
    "elif filhos == \"N\":\n",
    "    filhos_input = driver.find_element(By.XPATH, \"//label[@id='label_input_6_1']\").click()\n",
    "    \n",
    "    \n"
   ]
  },
  {
   "cell_type": "code",
   "execution_count": 67,
   "id": "55a172ef",
   "metadata": {},
   "outputs": [
    {
     "name": "stdout",
     "output_type": "stream",
     "text": [
      "Digite as suas cores preferidas: 1- Azul, 2- Amarelo, 3- Vermelho, 4- Laranja, 5- Preto, 6- Verde: 3\n"
     ]
    }
   ],
   "source": [
    "#cores \n",
    "opcao = input(\"Digite as suas cores preferidas: 1- Azul, 2- Amarelo, 3- Vermelho, 4- Laranja, 5- Preto, 6- Verde: \")\n",
    "\n",
    "def selecionar_cor(opcao):\n",
    "        \n",
    "    if opcao == '1':\n",
    "        cores_input = driver.find_element(By.XPATH, \"//label[@id='label_input_7_0']\").click()\n",
    "        \n",
    "    elif opcao == '2':\n",
    "        cores_input = driver.find_element(By.XPATH, \"//label[@id='label_input_7_1']\").click()\n",
    "        \n",
    "    elif opcao == '3':\n",
    "        cores_input = driver.find_element(By.XPATH, \"//label[@id='label_input_7_2']\").click()\n",
    "        \n",
    "    elif opcao == '4':\n",
    "        cores_input = driver.find_element(By.XPATH, \"//label[@id='label_input_7_3']\").click()\n",
    "        \n",
    "    elif opcao == '5':\n",
    "        cores_input = driver.find_element(By.XPATH, \"//label[@id='label_input_7_4']\").click()\n",
    "        \n",
    "    elif opcao == '6':\n",
    "        cores_input = driver.find_element(By.XPATH, \"//label[@id='label_input_7_5']\").click()\n",
    "        \n",
    "    else:\n",
    "        print(\"Opção inválida\")\n",
    "\n",
    "selecionar_cor(opcao)"
   ]
  },
  {
   "cell_type": "code",
   "execution_count": 68,
   "id": "ed93d4fd",
   "metadata": {},
   "outputs": [
    {
     "name": "stdout",
     "output_type": "stream",
     "text": [
      "Selecione a quantidade de estrelas: 1 a 5: 5\n"
     ]
    }
   ],
   "source": [
    "star = input(\"Selecione a quantidade de estrelas: 1 a 5: \")\n",
    "\n",
    "def stars_select(star):\n",
    "    if star == '1':\n",
    "        arg = '1 out of 5'\n",
    "    elif star == '2':\n",
    "        arg = '2 out of 5'\n",
    "    elif star == '3':\n",
    "        arg = '3 out of 5'\n",
    "    elif star == \"4\":\n",
    "        arg = '4 out of 5'\n",
    "    elif star == \"5\":\n",
    "        arg = '5 out of 5' \n",
    "    else:\n",
    "        print(\"Valor Incorreto!\")\n",
    "        return  # Retorna para evitar a execução do código abaixo em caso de valor incorreto\n",
    "    \n",
    "    stars = driver.find_element(By.XPATH, f\"//div[@aria-label='{arg}']\")\n",
    "    stars.click()\n",
    "\n",
    "stars_select(star)"
   ]
  },
  {
   "cell_type": "code",
   "execution_count": 69,
   "id": "9f4f0168",
   "metadata": {},
   "outputs": [
    {
     "name": "stdout",
     "output_type": "stream",
     "text": [
      "Qualidade do Serviço selecionada: Pouco Satisfeito(a)\n",
      "Grau de Dificuldade selecionado: Satisfeito(a)\n"
     ]
    }
   ],
   "source": [
    "import tkinter as tk\n",
    "\n",
    "qualidade_servico = \"\"\n",
    "grau_dificuldade = \"\"\n",
    "\n",
    "def obter_selecao():\n",
    "    global qualidade_servico, grau_dificuldade\n",
    "    qualidade_servico = opcoes_qs.get()\n",
    "    grau_dificuldade = opcoes_gd.get()\n",
    "    \n",
    "    print(\"Qualidade do Serviço selecionada:\", qualidade_servico)\n",
    "    print(\"Grau de Dificuldade selecionado:\", grau_dificuldade)\n",
    "    \n",
    "    root.destroy()  # Fecha a janela do Tkinter\n",
    "\n",
    "root = tk.Tk()\n",
    "\n",
    "# Rotulos das colunas\n",
    "colunas = [\"Insatisfeito(a)\", \"Pouco Satisfeito(a)\", \"Satisfeito(a)\", \"Muito Satisfeito(a)\"]\n",
    "for j, coluna in enumerate(colunas):\n",
    "    label = tk.Label(root, text=coluna)\n",
    "    label.grid(row=0, column=j+1, padx=10, pady=5)\n",
    "\n",
    "# Rotulos das linhas\n",
    "linhas = [\"Qualidade do Serviço\", \"Grau de Dificuldade\"]\n",
    "for i, linha in enumerate(linhas):\n",
    "    label = tk.Label(root, text=linha)\n",
    "    label.grid(row=i+1, column=0, padx=10, pady=5)\n",
    "\n",
    "# Var opcoes\n",
    "opcoes_qs = tk.StringVar()\n",
    "opcoes_gd = tk.StringVar()\n",
    "\n",
    "# Botões de opção\n",
    "for i in range(4):\n",
    "    radio_qs = tk.Radiobutton(root, text=\"\", variable=opcoes_qs, value=colunas[i])\n",
    "    radio_qs.grid(row=1, column=i+1)\n",
    "    radio_gd = tk.Radiobutton(root, text=\"\", variable=opcoes_gd, value=colunas[i])\n",
    "    radio_gd.grid(row=2, column=i+1)\n",
    "\n",
    "# confirmação\n",
    "botao_confirmar = tk.Button(root, text=\"Confirmar\", command=obter_selecao)\n",
    "botao_confirmar.grid(row=3, column=0, columnspan=5, padx=10, pady=5)\n",
    "\n",
    "root.mainloop()\n"
   ]
  },
  {
   "cell_type": "code",
   "execution_count": 70,
   "id": "6bab36f3",
   "metadata": {
    "scrolled": false
   },
   "outputs": [
    {
     "name": "stdout",
     "output_type": "stream",
     "text": [
      "Pouco Satisfeito(a)\n",
      "Satisfeito(a)\n"
     ]
    }
   ],
   "source": [
    "print(qualidade_servico)\n",
    "print(grau_dificuldade)"
   ]
  },
  {
   "cell_type": "code",
   "execution_count": 74,
   "id": "6cc304e8",
   "metadata": {},
   "outputs": [],
   "source": [
    "#qs no campo qs \n",
    "qualidade_servico_camp = driver.find_element(By.XPATH, f\"//tr[@aria-labelledby='label_9 label_9_row_0']//td[input[@value='{qualidade_servico}']]\").click()\n",
    "py.sleep(2)"
   ]
  },
  {
   "cell_type": "code",
   "execution_count": 75,
   "id": "1288447b",
   "metadata": {},
   "outputs": [],
   "source": [
    "#gd no campo gd \n",
    "grau_dificuldade_camp = driver.find_element(By.XPATH, f\"//tr[@aria-labelledby='label_9 label_9_row_1']//td[input[@value='{grau_dificuldade}']]\").click()"
   ]
  },
  {
   "cell_type": "code",
   "execution_count": 76,
   "id": "2a8b0799",
   "metadata": {},
   "outputs": [],
   "source": [
    "driver.find_element(By.XPATH, \"//div//button[@id='input_2']\").click()\n",
    "py.sleep(4)\n"
   ]
  },
  {
   "cell_type": "code",
   "execution_count": 77,
   "id": "4b26e5ae",
   "metadata": {},
   "outputs": [],
   "source": [
    "driver.refresh()"
   ]
  },
  {
   "cell_type": "code",
   "execution_count": null,
   "id": "720638ee",
   "metadata": {},
   "outputs": [],
   "source": [
    "#se fosse um db , só fzr o for e ler as entidades do df, e colocar no seu respectivo local."
   ]
  }
 ],
 "metadata": {
  "kernelspec": {
   "display_name": "Python 3 (ipykernel)",
   "language": "python",
   "name": "python3"
  },
  "language_info": {
   "codemirror_mode": {
    "name": "ipython",
    "version": 3
   },
   "file_extension": ".py",
   "mimetype": "text/x-python",
   "name": "python",
   "nbconvert_exporter": "python",
   "pygments_lexer": "ipython3",
   "version": "3.11.5"
  }
 },
 "nbformat": 4,
 "nbformat_minor": 5
}
