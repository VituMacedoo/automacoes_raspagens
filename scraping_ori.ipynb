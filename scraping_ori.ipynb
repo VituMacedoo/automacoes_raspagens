{
 "cells": [
  {
   "cell_type": "code",
   "execution_count": null,
   "id": "16a5ebdd",
   "metadata": {},
   "outputs": [],
   "source": [
    "pip install --upgrade pip"
   ]
  },
  {
   "cell_type": "code",
   "execution_count": null,
   "id": "dce85d84",
   "metadata": {},
   "outputs": [],
   "source": [
    "pip install --use-feature=fast-deps seleniumbase"
   ]
  },
  {
   "cell_type": "code",
   "execution_count": null,
   "id": "2e332cc6",
   "metadata": {},
   "outputs": [],
   "source": [
    "pip install seleniumbase"
   ]
  },
  {
   "cell_type": "code",
   "execution_count": null,
   "id": "9100a046",
   "metadata": {},
   "outputs": [],
   "source": [
    "pip install pandas selenium a_selenium2df PrettyColorPrinter"
   ]
  },
  {
   "cell_type": "code",
   "execution_count": 75,
   "id": "3a063261",
   "metadata": {},
   "outputs": [],
   "source": [
    "from seleniumbase import Driver\n",
    "import pandas as pd\n",
    "from selenium.webdriver.common.by import By\n",
    "from selenium.webdriver.support import expected_conditions\n",
    "from selenium.webdriver.support.wait import WebDriverWait\n",
    "from a_selenium2df import get_df\n",
    "from PrettyColorPrinter import add_printer\n",
    "import time\n",
    "from bs4 import BeautifulSoup\n",
    "from selenium.webdriver.support import expected_conditions as EC\n",
    "\n",
    "\n",
    "\n",
    "driver = Driver(uc=True)\n",
    "driver.get(\"https://shopee.com.br/\")"
   ]
  },
  {
   "cell_type": "code",
   "execution_count": 76,
   "id": "20f507d5",
   "metadata": {},
   "outputs": [],
   "source": [
    "##Planilha\n",
    "df_produtos = pd.read_csv('nomes_produtos.csv', sep=',')"
   ]
  },
  {
   "cell_type": "code",
   "execution_count": 77,
   "id": "3b545042",
   "metadata": {},
   "outputs": [],
   "source": [
    "time.sleep(10)\n",
    "\n",
    "#Rejeitar Cookies\n",
    "driver.find_element(By.CLASS_NAME, \"vXF9sy\").click()\n",
    "\n",
    "time.sleep(2)"
   ]
  },
  {
   "cell_type": "code",
   "execution_count": 78,
   "id": "0c3c3a78",
   "metadata": {},
   "outputs": [],
   "source": [
    "#//*[@id=\"main\"]/div/div[2]/div/div/shopee-banner-popup-stateful//div/div/div/div/div/svg\n",
    "#segunda aba de anuncio\n",
    "from selenium.webdriver.common.keys import Keys\n",
    "time.sleep(3)\n",
    "\n",
    "input_place = driver.find_element(By.CLASS_NAME,'shopee-searchbar-input__input')\n",
    "input_place.send_keys(\"teste\")\n",
    "input_place.send_keys(Keys.RETURN)\n",
    "\n",
    "time.sleep(10)"
   ]
  },
  {
   "cell_type": "code",
   "execution_count": null,
   "id": "b917c70e",
   "metadata": {},
   "outputs": [],
   "source": [
    "\n",
    "    "
   ]
  },
  {
   "cell_type": "code",
   "execution_count": 79,
   "id": "e4fbc66a",
   "metadata": {},
   "outputs": [],
   "source": [
    "time.sleep(5)\n",
    "#login\n",
    "username_input = driver.find_element(By.NAME, \"loginKey\")\n",
    "password_input = driver.find_element(By.NAME, \"password\")\n",
    "\n",
    "# senha\n",
    "username_input.send_keys(\"vitoreduardomacedo0@gmail.com\")\n",
    "password_input.send_keys(\"Sma@rt18\")\n",
    "password_input.send_keys(Keys.RETURN)\n"
   ]
  },
  {
   "cell_type": "code",
   "execution_count": 80,
   "id": "02d3b405",
   "metadata": {},
   "outputs": [],
   "source": [
    "driver.back()"
   ]
  },
  {
   "cell_type": "code",
   "execution_count": 81,
   "id": "ed61ac30",
   "metadata": {},
   "outputs": [],
   "source": [
    "nomes_produtos = df_produtos.loc[1:, 'Descrição - Produto'].tolist()"
   ]
  },
  {
   "cell_type": "code",
   "execution_count": 83,
   "id": "c1baeadb",
   "metadata": {},
   "outputs": [
    {
     "name": "stdout",
     "output_type": "stream",
     "text": [
      "60\n"
     ]
    }
   ],
   "source": [
    "boxes = driver.find_elements(By.XPATH, \"//li[@data-sqe='item']\")\n",
    "print(len(boxes))"
   ]
  },
  {
   "cell_type": "code",
   "execution_count": 84,
   "id": "b9ab4d6f",
   "metadata": {},
   "outputs": [],
   "source": [
    "elemento = driver.find_element(By.XPATH, \"//div[@class='_4jsMAm']\")\n",
    "\n",
    "# Execute o script JavaScript para rolar suavemente até o elemento\n",
    "driver.execute_script(\"arguments[0].scrollIntoView({ behavior: 'smooth', block: 'center' });\", elemento)"
   ]
  },
  {
   "cell_type": "code",
   "execution_count": 90,
   "id": "f94b67b7",
   "metadata": {},
   "outputs": [
    {
     "ename": "KeyboardInterrupt",
     "evalue": "",
     "output_type": "error",
     "traceback": [
      "\u001b[1;31m---------------------------------------------------------------------------\u001b[0m",
      "\u001b[1;31mKeyboardInterrupt\u001b[0m                         Traceback (most recent call last)",
      "Cell \u001b[1;32mIn[90], line 16\u001b[0m\n\u001b[0;32m     11\u001b[0m \u001b[38;5;66;03m#Carregando página inteira\u001b[39;00m\n\u001b[0;32m     12\u001b[0m \n\u001b[0;32m     13\u001b[0m     \n\u001b[0;32m     14\u001b[0m \u001b[38;5;66;03m#procurando boxes(60 por página)\u001b[39;00m\n\u001b[0;32m     15\u001b[0m boxes \u001b[38;5;241m=\u001b[39m driver\u001b[38;5;241m.\u001b[39mfind_elements(By\u001b[38;5;241m.\u001b[39mXPATH, \u001b[38;5;124m\"\u001b[39m\u001b[38;5;124m//li[@data-sqe=\u001b[39m\u001b[38;5;124m'\u001b[39m\u001b[38;5;124mitem\u001b[39m\u001b[38;5;124m'\u001b[39m\u001b[38;5;124m]\u001b[39m\u001b[38;5;124m\"\u001b[39m)\u001b[38;5;66;03m#editar\u001b[39;00m\n\u001b[1;32m---> 16\u001b[0m time\u001b[38;5;241m.\u001b[39msleep(\u001b[38;5;241m4\u001b[39m)\n\u001b[0;32m     18\u001b[0m driver\u001b[38;5;241m.\u001b[39mback()\n\u001b[0;32m     20\u001b[0m \u001b[38;5;66;03m#procurando informaçoes de cada box   \u001b[39;00m\n",
      "\u001b[1;31mKeyboardInterrupt\u001b[0m: "
     ]
    }
   ],
   "source": [
    "#iterando sobre os produtos necessários\n",
    "lista_produtos = []\n",
    "for nome_produto in nomes_produtos:\n",
    "        \n",
    "    time.sleep(3)\n",
    "\n",
    "    input_place = driver.find_element(By.CLASS_NAME,'shopee-searchbar-input__input')\n",
    "    input_place.send_keys(nome_produto)\n",
    "    input_place.send_keys(Keys.RETURN)\n",
    "    \n",
    "    #Carregando página inteira\n",
    "    \n",
    "        \n",
    "    #procurando boxes(60 por página)\n",
    "    boxes = driver.find_elements(By.XPATH, \"//li[@data-sqe='item']\")#editar\n",
    "    time.sleep(4)\n",
    "    \n",
    "    driver.back()\n",
    "       \n",
    "    #procurando informaçoes de cada box   \n",
    "    for box in boxes:\n",
    "        \n",
    "                \n",
    "        #titulo produto\n",
    "        titulo = box.find_element(By.XPATH, \"//div[@class='ie3A+n bM+7UW Cve6sh']\")\n",
    "        \n",
    "         #precos\n",
    "        preco = box.find_element(By.CLASS_NAME, \"ZEgDH9\")\n",
    "        \n",
    "        #qtde_vendida\n",
    "        qtde_vendida = box.find_element(By.XPATH, \"//div[@class='r6HknA uEPGHT']\")\n",
    "        \n",
    "        #Anúncio\n",
    "        try:\n",
    "            anuncio = box.find_element(By.XPATH, \"//div[@class='Sh+UIZ' and @data-sqe='ad']\")\n",
    "            anuncio = anuncio.text\n",
    "        except (AttributeError, NoSuchElementException, IndexError):\n",
    "            anuncio = None\n",
    "            \n",
    "        #local de envio\n",
    "        local_envio = box.find_element(By.XPATH, \"//div[@class='zGGwiV']\")\n",
    "        \n",
    "        #Informaçoes adicionais\n",
    "        titulo.click()\n",
    "        time.sleep(1)\n",
    "        \n",
    "        #nome da loja\n",
    "        nome_loja = box.find_element(By.XPATH, \"//div[@class='VlDReK']\")\n",
    "        \n",
    "        #avaliaçao do produto\n",
    "        try:\n",
    "            avaliacao_prod =box.find_element(By.XPATH, \"//div[@class='_1k47d8 _046PXf']\")\n",
    "            avaliacao_prod = avaliacao_prod.text\n",
    "        except (AttributeError, NoSuchElementException, IndexError):\n",
    "            avaliacao_prod = None\n",
    "        \n",
    "        #desconto\n",
    "        try:\n",
    "            desconto_prod = box.find_element(By.XPATH, \"//div[@class='_0voski']\")\n",
    "            desconto_prod = desconto_prod.text\n",
    "        except (AttributeError, NoSuchElementException, IndexError):\n",
    "            desconto_prod = None\n",
    "            \n",
    "        #link\n",
    "        link_descricao = soup.find('a', attrs={'data-sqe':'link'})\n",
    "        url = 'https://shopee.com.br' + link_descricao['href']\n",
    "        \n",
    "        time.sleep(2)\n",
    "        driver.back()\n",
    "        \n",
    "        \n",
    "        \n",
    "lista_produtos.append([titulo.text, preco.text, qtde_vendida.text, anuncio, local_envio, nome_loja.text, avaliacao_prod, desconto, url])\n",
    "        \n",
    "        \n",
    "        \n",
    "        \n",
    "        \n",
    "        \n",
    "        "
   ]
  },
  {
   "cell_type": "code",
   "execution_count": 82,
   "id": "10fd585e",
   "metadata": {},
   "outputs": [],
   "source": [
    "time.sleep(2)\n",
    "input_place = driver.find_element(By.CLASS_NAME,'shopee-searchbar-input__input')\n",
    "input_place.send_keys(\"base nati\")\n",
    "input_place.send_keys(Keys.RETURN)"
   ]
  },
  {
   "cell_type": "code",
   "execution_count": null,
   "id": "634d1ede",
   "metadata": {},
   "outputs": [],
   "source": [
    "#Agora vc vai ter q fazer a verificação"
   ]
  },
  {
   "cell_type": "code",
   "execution_count": null,
   "id": "f168f985",
   "metadata": {},
   "outputs": [],
   "source": []
  },
  {
   "cell_type": "code",
   "execution_count": null,
   "id": "21505f5c",
   "metadata": {},
   "outputs": [],
   "source": [
    "velocidade_rolagem = 0.5\n",
    "ultimo_elemento = driver.find_element(By.CLASS_NAME, \"_4jsMAm\")\n",
    "posicao_atual = driver.execute_script(\"return arguments[0].getBoundingClientRect().top;\", ultimo_elemento)\n",
    "\n",
    "# Rolar até o último elemento\n",
    "while True:\n",
    "    # Execute o script JavaScript para verificar se o elemento está visível\n",
    "    is_visible = driver.execute_script('''\n",
    "        var elemento = document.querySelector(\"._4jsMAm\");\n",
    "        var rect = elemento.getBoundingClientRect();\n",
    "        return (\n",
    "          rect.top >= 0 &&\n",
    "          rect.bottom <= (window.innerHeight || document.documentElement.clientHeight)\n",
    "        );\n",
    "    ''')\n",
    "\n",
    "    # Se o elemento estiver visível, pare o loop\n",
    "    if is_visible:\n",
    "        break\n",
    "\n",
    "    # Calcule a quantidade de rolagem\n",
    "    rolagem = 100\n",
    "\n",
    "    # Execute o script de rolagem\n",
    "    driver.execute_script(f\"window.scrollBy(0, {rolagem});\")\n",
    "\n",
    "    # Aguarde a velocidade de rolagem\n",
    "    time.sleep(velocidade_rolagem)\n"
   ]
  },
  {
   "cell_type": "code",
   "execution_count": null,
   "id": "c144638e",
   "metadata": {},
   "outputs": [],
   "source": [
    "'''ultimo_elemento = driver.find_element(By.CLASS_NAME, \"_4jsMAm\")\n",
    "driver.execute_script(\"arguments[0].scrollIntoView(true);\", ultimo_elemento)'''"
   ]
  },
  {
   "cell_type": "code",
   "execution_count": null,
   "id": "cb180e75",
   "metadata": {},
   "outputs": [],
   "source": [
    "time.sleep(5)\n",
    "html = driver.page_source\n",
    "\n",
    "# Obj BS4\n",
    "soup = BeautifulSoup(html, 'html.parser')\n"
   ]
  },
  {
   "cell_type": "code",
   "execution_count": null,
   "id": "8730b81c",
   "metadata": {
    "scrolled": true
   },
   "outputs": [],
   "source": [
    "#box geral\n",
    "box = soup.find('div', attrs={'class':'VTjd7p whIxGK'})#\n",
    "print(box.prettify())"
   ]
  },
  {
   "cell_type": "code",
   "execution_count": null,
   "id": "808cc098",
   "metadata": {
    "scrolled": false
   },
   "outputs": [],
   "source": [
    "#qtde de boxes\n",
    "boxes_soup = driver.find_elements(By.CLASS_NAME, 'tWpFe2')\n",
    "print(len(boxes_soup))"
   ]
  },
  {
   "cell_type": "code",
   "execution_count": null,
   "id": "1af04383",
   "metadata": {},
   "outputs": [],
   "source": [
    "box2 = driver.find_element(By.CLASS_NAME, 'tWpFe2')\n",
    "box2.click()\n"
   ]
  },
  {
   "cell_type": "code",
   "execution_count": null,
   "id": "33f1f887",
   "metadata": {},
   "outputs": [],
   "source": [
    "driver.back()"
   ]
  },
  {
   "cell_type": "code",
   "execution_count": null,
   "id": "af4c793b",
   "metadata": {
    "scrolled": false
   },
   "outputs": [],
   "source": [
    "boxes_soup.click()\n",
    "\n"
   ]
  },
  {
   "cell_type": "code",
   "execution_count": null,
   "id": "e43eb884",
   "metadata": {
    "scrolled": true
   },
   "outputs": [],
   "source": [
    "#teste de busca de link:\n",
    "#<li class=\"col-xs-2-4 shopee-search-item-result__item\" data-sqe=\"item\"><a data-sqe=\"link\" href=\"/Kit-Base-Concreto-Endurecedor-Base-Fermento-Top-Beauty-i.376269029.8880628183?sp_atk=bcce5bdd-2248-4b64-82f8-bd432735db5e&amp;xptdk=bcce5bdd-2248-4b64-82f8-bd432735db5e\">\n",
    "box_teste = soup.find_all('li', attrs={'data-sqe':'item'})\n",
    "#box_teste.click()\n",
    "\n",
    "k = 0\n",
    "for box in box_teste:\n",
    "    k += 1\n",
    "    link = box.find('a', attrs={'data-sqe':'link'})\n",
    "    print(f\"link do produto{k}: {link['href']} \\n\" )\n",
    "      \n",
    "                                 \n",
    "                                 "
   ]
  },
  {
   "cell_type": "code",
   "execution_count": null,
   "id": "e324e8f2",
   "metadata": {
    "scrolled": false
   },
   "outputs": [],
   "source": [
    "link = soup.find('a', attrs={'data-sqe':'link'})\n",
    "print(link['href'])"
   ]
  },
  {
   "cell_type": "code",
   "execution_count": null,
   "id": "bf3b08fb",
   "metadata": {},
   "outputs": [],
   "source": [
    "box = soup.find('div', attrs={'class':'tWpFe2'})\n",
    "print(box.prettify())"
   ]
  },
  {
   "cell_type": "code",
   "execution_count": null,
   "id": "bb778d2d",
   "metadata": {
    "scrolled": false
   },
   "outputs": [],
   "source": [
    "#quantidade de boxes\n",
    "boxes = driver.find_elements(By.CLASS_NAME, 'tWpFe2')\n",
    "print(len(boxes))"
   ]
  },
  {
   "cell_type": "markdown",
   "id": "236149f4",
   "metadata": {},
   "source": [
    "# Teste busca"
   ]
  },
  {
   "cell_type": "code",
   "execution_count": null,
   "id": "fbe074b3",
   "metadata": {
    "scrolled": false
   },
   "outputs": [],
   "source": [
    "#titulo\n",
    "nome_produto = soup.find('div', attrs={'class':'ie3A+n bM+7UW Cve6sh'})\n",
    "print(nome_produto.get_text())"
   ]
  },
  {
   "cell_type": "code",
   "execution_count": null,
   "id": "33856829",
   "metadata": {
    "scrolled": true
   },
   "outputs": [],
   "source": [
    "#preco\n",
    "preco = soup.find('span', attrs={'class': 'ZEgDH9'})\n",
    "print(preco.get_text())"
   ]
  },
  {
   "cell_type": "code",
   "execution_count": null,
   "id": "07f86163",
   "metadata": {},
   "outputs": [],
   "source": [
    "#qtde vendida\n",
    "lista_qtde = []\n",
    "try:\n",
    "    qtde_vendida = soup.find_all('div', attrs={'class':'r6HknA uEPGHT'})[11]\n",
    "    qtde_vendida_texto = qtde_vendida.text\n",
    "except AttributeError:\n",
    "    qtde_vendida_texto = None\n",
    "    \n",
    "lista_qtde.append(qtde_vendida_texto)"
   ]
  },
  {
   "cell_type": "code",
   "execution_count": null,
   "id": "96a2a0c2",
   "metadata": {},
   "outputs": [],
   "source": [
    "lista_qtde"
   ]
  },
  {
   "cell_type": "code",
   "execution_count": null,
   "id": "1ed7292a",
   "metadata": {},
   "outputs": [],
   "source": [
    "#local envio\n",
    "local_envio = soup.find('div', attrs={'class':'zGGwiV'})\n",
    "print(local_envio.get_text())"
   ]
  },
  {
   "cell_type": "code",
   "execution_count": null,
   "id": "16254fca",
   "metadata": {
    "scrolled": false
   },
   "outputs": [],
   "source": [
    "#link\n",
    "link_descricao = soup.find('a', attrs={'data-sqe':'link'})\n",
    "print('https://shopee.com.br' + link_descricao['href'])"
   ]
  },
  {
   "cell_type": "code",
   "execution_count": null,
   "id": "69a0a5dd",
   "metadata": {},
   "outputs": [],
   "source": [
    "titulo = driver.find_element(By.CLASS_NAME,\"tWpFe2\")\n",
    "print(titulo)"
   ]
  },
  {
   "cell_type": "code",
   "execution_count": null,
   "id": "f27522f7",
   "metadata": {},
   "outputs": [],
   "source": [
    "lista_cosmeticos =[]\n",
    "for box in boxes:\n",
    "    #titulo \n",
    "    nome_produto = html.find('div', attrs={'class':'ie3A+n bM+7UW Cve6sh'})\n",
    "    print(nome_produto.get_text())\n",
    "    \n",
    "    #precos\n",
    "    preco = driver.find_element(By.CLASS_NAME, \"ZEgDH9\")\n",
    "    preco.append(lista_precos.get_text())\n",
    "    #qtde_vendida\n",
    "    qtde_vendida = driver.find_element(By.TAG_NAME, \" \")\n",
    "    qtde_vendida.get_text().append(lista_qtde)"
   ]
  },
  {
   "cell_type": "code",
   "execution_count": null,
   "id": "c787d271",
   "metadata": {},
   "outputs": [],
   "source": [
    "anuncios_teste_2 = soup.find(text=\"Anúncio\")[-1]\n",
    "print(anuncios_teste_2)"
   ]
  },
  {
   "cell_type": "code",
   "execution_count": null,
   "id": "fefb7764",
   "metadata": {},
   "outputs": [],
   "source": [
    "preco = driver.find_element(By.CLASS_NAME, \"ZEgDH9\")\n",
    "print(preco)"
   ]
  },
  {
   "cell_type": "code",
   "execution_count": null,
   "id": "a8763020",
   "metadata": {},
   "outputs": [],
   "source": [
    "#raspagem de cada produto"
   ]
  },
  {
   "cell_type": "code",
   "execution_count": null,
   "id": "adf5293d",
   "metadata": {},
   "outputs": [],
   "source": [
    "titulo = soup.find(\"div\", attrs={\"class\":\"\"})"
   ]
  },
  {
   "cell_type": "markdown",
   "id": "107c5bef",
   "metadata": {},
   "source": [
    "## Novo teste busca link de cada produto"
   ]
  },
  {
   "cell_type": "code",
   "execution_count": 13,
   "id": "6805276d",
   "metadata": {},
   "outputs": [],
   "source": [
    "from selenium.common.exceptions import NoSuchElementException"
   ]
  },
  {
   "cell_type": "code",
   "execution_count": 7,
   "id": "25353b35",
   "metadata": {},
   "outputs": [
    {
     "name": "stdout",
     "output_type": "stream",
     "text": [
      "Tratamento Base Brilho de Unhas 5 free Profissional 100ml - Nati\n"
     ]
    }
   ],
   "source": [
    "#titulo produto\n",
    "titulo = driver.find_element(By.XPATH, \"//div[@class='ie3A+n bM+7UW Cve6sh']\")#//*[@id=\"main\"]/div/div[2]/div/div/div[2]/section/ul/li[1]/a/div/div/div[2]/div[1]/div/div\n",
    "print(titulo.text)"
   ]
  },
  {
   "cell_type": "code",
   "execution_count": 8,
   "id": "e5326ee5",
   "metadata": {},
   "outputs": [
    {
     "name": "stdout",
     "output_type": "stream",
     "text": [
      "14,89\n"
     ]
    }
   ],
   "source": [
    " #precos\n",
    "preco = driver.find_element(By.CLASS_NAME, \"ZEgDH9\")\n",
    "print(preco.text)"
   ]
  },
  {
   "cell_type": "code",
   "execution_count": 9,
   "id": "3499df32",
   "metadata": {},
   "outputs": [
    {
     "name": "stdout",
     "output_type": "stream",
     "text": [
      "9 vendidos\n"
     ]
    }
   ],
   "source": [
    "#qtde_vendida\n",
    "qtde_vendida = driver.find_element(By.XPATH, \"//div[@class='r6HknA uEPGHT']\")\n",
    "print(qtde_vendida.text)\n",
    "\n"
   ]
  },
  {
   "cell_type": "code",
   "execution_count": 11,
   "id": "94b6ba2d",
   "metadata": {},
   "outputs": [
    {
     "name": "stdout",
     "output_type": "stream",
     "text": [
      "\n"
     ]
    }
   ],
   "source": [
    "#anuncio \n",
    "'''try:\n",
    "    qtde_vendida = soup.find_all('div', attrs={'class':'r6HknA uEPGHT'})[11]\n",
    "    qtde_vendida_texto = qtde_vendida.text\n",
    "except AttributeError:\n",
    "    qtde_vendida_texto = None'''#//*[@id=\"main\"]/div/div[2]/div/div/div[2]/section/ul/li[1]/a/div/div/div[2]/div[1]/div/div\n",
    "                                #/html/body/div[1]/div/div[2]/div/div/div[2]/section/ul/li[1]/a/div/div/div[2]/div[1]/div/div\n",
    "\n",
    "anuncio = driver.find_element(By.XPATH, \"//div[@class='Sh+UIZ' and @data-sqe='ad']\")\n",
    "print(anuncio.text)"
   ]
  },
  {
   "cell_type": "code",
   "execution_count": 50,
   "id": "17dedc82",
   "metadata": {
    "scrolled": true
   },
   "outputs": [
    {
     "name": "stdout",
     "output_type": "stream",
     "text": [
      "Espírito Santo\n"
     ]
    }
   ],
   "source": [
    "#local de envio\n",
    "local_envio = driver.find_element(By.XPATH, \"//div[@class='zGGwiV']\")\n",
    "print(local_envio.text)"
   ]
  },
  {
   "cell_type": "code",
   "execution_count": 47,
   "id": "48dafebf",
   "metadata": {},
   "outputs": [
    {
     "ename": "NoSuchElementException",
     "evalue": "Message: no such element: Unable to locate element: {\"method\":\"xpath\",\"selector\":\"//label[contains(text(), 'Enviado de')]/following-sibling::div\"}\n  (Session info: chrome=118.0.5993.118); For documentation on this error, please visit: https://www.selenium.dev/documentation/webdriver/troubleshooting/errors#no-such-element-exception\nStacktrace:\n\tGetHandleVerifier [0x00007FF7A2588EF2+54786]\n\t(No symbol) [0x00007FF7A24F5612]\n\t(No symbol) [0x00007FF7A23AA64B]\n\t(No symbol) [0x00007FF7A23EB79C]\n\t(No symbol) [0x00007FF7A23EB91C]\n\t(No symbol) [0x00007FF7A2426D87]\n\t(No symbol) [0x00007FF7A240BEAF]\n\t(No symbol) [0x00007FF7A2424D02]\n\t(No symbol) [0x00007FF7A240BC43]\n\t(No symbol) [0x00007FF7A23E0941]\n\t(No symbol) [0x00007FF7A23E1B84]\n\tGetHandleVerifier [0x00007FF7A28D7F52+3524194]\n\tGetHandleVerifier [0x00007FF7A292D800+3874576]\n\tGetHandleVerifier [0x00007FF7A2925D7F+3843215]\n\tGetHandleVerifier [0x00007FF7A2625086+694166]\n\t(No symbol) [0x00007FF7A2500A88]\n\t(No symbol) [0x00007FF7A24FCA94]\n\t(No symbol) [0x00007FF7A24FCBC2]\n\t(No symbol) [0x00007FF7A24ECC83]\n\tBaseThreadInitThunk [0x00007FF8387D257D+29]\n\tRtlUserThreadStart [0x00007FF839D0AA58+40]\n",
     "output_type": "error",
     "traceback": [
      "\u001b[1;31m---------------------------------------------------------------------------\u001b[0m",
      "\u001b[1;31mNoSuchElementException\u001b[0m                    Traceback (most recent call last)",
      "Cell \u001b[1;32mIn[47], line 2\u001b[0m\n\u001b[0;32m      1\u001b[0m \u001b[38;5;66;03m#LOCAL DE ENVIO\u001b[39;00m\n\u001b[1;32m----> 2\u001b[0m label_enviado_de \u001b[38;5;241m=\u001b[39m driver\u001b[38;5;241m.\u001b[39mfind_element(By\u001b[38;5;241m.\u001b[39mXPATH, \u001b[38;5;124m\"\u001b[39m\u001b[38;5;124m//label[contains(text(), \u001b[39m\u001b[38;5;124m'\u001b[39m\u001b[38;5;124mEnviado de\u001b[39m\u001b[38;5;124m'\u001b[39m\u001b[38;5;124m)]/following-sibling::div\u001b[39m\u001b[38;5;124m\"\u001b[39m)\n\u001b[0;32m      3\u001b[0m \u001b[38;5;28mprint\u001b[39m(label_enviado_de\u001b[38;5;241m.\u001b[39mtext)\n",
      "File \u001b[1;32m~\\anaconda3\\Lib\\site-packages\\seleniumbase\\core\\sb_driver.py:19\u001b[0m, in \u001b[0;36mDriverMethods.find_element\u001b[1;34m(self, by, value)\u001b[0m\n\u001b[0;32m     17\u001b[0m \u001b[38;5;28;01melse\u001b[39;00m:\n\u001b[0;32m     18\u001b[0m     value, by \u001b[38;5;241m=\u001b[39m page_utils\u001b[38;5;241m.\u001b[39mswap_selector_and_by_if_reversed(value, by)\n\u001b[1;32m---> 19\u001b[0m \u001b[38;5;28;01mreturn\u001b[39;00m \u001b[38;5;28mself\u001b[39m\u001b[38;5;241m.\u001b[39mdriver\u001b[38;5;241m.\u001b[39mdefault_find_element(by\u001b[38;5;241m=\u001b[39mby, value\u001b[38;5;241m=\u001b[39mvalue)\n",
      "File \u001b[1;32m~\\anaconda3\\Lib\\site-packages\\selenium\\webdriver\\remote\\webdriver.py:738\u001b[0m, in \u001b[0;36mWebDriver.find_element\u001b[1;34m(self, by, value)\u001b[0m\n\u001b[0;32m    735\u001b[0m     by \u001b[38;5;241m=\u001b[39m By\u001b[38;5;241m.\u001b[39mCSS_SELECTOR\n\u001b[0;32m    736\u001b[0m     value \u001b[38;5;241m=\u001b[39m \u001b[38;5;124mf\u001b[39m\u001b[38;5;124m'\u001b[39m\u001b[38;5;124m[name=\u001b[39m\u001b[38;5;124m\"\u001b[39m\u001b[38;5;132;01m{\u001b[39;00mvalue\u001b[38;5;132;01m}\u001b[39;00m\u001b[38;5;124m\"\u001b[39m\u001b[38;5;124m]\u001b[39m\u001b[38;5;124m'\u001b[39m\n\u001b[1;32m--> 738\u001b[0m \u001b[38;5;28;01mreturn\u001b[39;00m \u001b[38;5;28mself\u001b[39m\u001b[38;5;241m.\u001b[39mexecute(Command\u001b[38;5;241m.\u001b[39mFIND_ELEMENT, {\u001b[38;5;124m\"\u001b[39m\u001b[38;5;124musing\u001b[39m\u001b[38;5;124m\"\u001b[39m: by, \u001b[38;5;124m\"\u001b[39m\u001b[38;5;124mvalue\u001b[39m\u001b[38;5;124m\"\u001b[39m: value})[\u001b[38;5;124m\"\u001b[39m\u001b[38;5;124mvalue\u001b[39m\u001b[38;5;124m\"\u001b[39m]\n",
      "File \u001b[1;32m~\\anaconda3\\Lib\\site-packages\\selenium\\webdriver\\remote\\webdriver.py:344\u001b[0m, in \u001b[0;36mWebDriver.execute\u001b[1;34m(self, driver_command, params)\u001b[0m\n\u001b[0;32m    342\u001b[0m response \u001b[38;5;241m=\u001b[39m \u001b[38;5;28mself\u001b[39m\u001b[38;5;241m.\u001b[39mcommand_executor\u001b[38;5;241m.\u001b[39mexecute(driver_command, params)\n\u001b[0;32m    343\u001b[0m \u001b[38;5;28;01mif\u001b[39;00m response:\n\u001b[1;32m--> 344\u001b[0m     \u001b[38;5;28mself\u001b[39m\u001b[38;5;241m.\u001b[39merror_handler\u001b[38;5;241m.\u001b[39mcheck_response(response)\n\u001b[0;32m    345\u001b[0m     response[\u001b[38;5;124m\"\u001b[39m\u001b[38;5;124mvalue\u001b[39m\u001b[38;5;124m\"\u001b[39m] \u001b[38;5;241m=\u001b[39m \u001b[38;5;28mself\u001b[39m\u001b[38;5;241m.\u001b[39m_unwrap_value(response\u001b[38;5;241m.\u001b[39mget(\u001b[38;5;124m\"\u001b[39m\u001b[38;5;124mvalue\u001b[39m\u001b[38;5;124m\"\u001b[39m, \u001b[38;5;28;01mNone\u001b[39;00m))\n\u001b[0;32m    346\u001b[0m     \u001b[38;5;28;01mreturn\u001b[39;00m response\n",
      "File \u001b[1;32m~\\anaconda3\\Lib\\site-packages\\selenium\\webdriver\\remote\\errorhandler.py:229\u001b[0m, in \u001b[0;36mErrorHandler.check_response\u001b[1;34m(self, response)\u001b[0m\n\u001b[0;32m    227\u001b[0m         alert_text \u001b[38;5;241m=\u001b[39m value[\u001b[38;5;124m\"\u001b[39m\u001b[38;5;124malert\u001b[39m\u001b[38;5;124m\"\u001b[39m]\u001b[38;5;241m.\u001b[39mget(\u001b[38;5;124m\"\u001b[39m\u001b[38;5;124mtext\u001b[39m\u001b[38;5;124m\"\u001b[39m)\n\u001b[0;32m    228\u001b[0m     \u001b[38;5;28;01mraise\u001b[39;00m exception_class(message, screen, stacktrace, alert_text)  \u001b[38;5;66;03m# type: ignore[call-arg]  # mypy is not smart enough here\u001b[39;00m\n\u001b[1;32m--> 229\u001b[0m \u001b[38;5;28;01mraise\u001b[39;00m exception_class(message, screen, stacktrace)\n",
      "\u001b[1;31mNoSuchElementException\u001b[0m: Message: no such element: Unable to locate element: {\"method\":\"xpath\",\"selector\":\"//label[contains(text(), 'Enviado de')]/following-sibling::div\"}\n  (Session info: chrome=118.0.5993.118); For documentation on this error, please visit: https://www.selenium.dev/documentation/webdriver/troubleshooting/errors#no-such-element-exception\nStacktrace:\n\tGetHandleVerifier [0x00007FF7A2588EF2+54786]\n\t(No symbol) [0x00007FF7A24F5612]\n\t(No symbol) [0x00007FF7A23AA64B]\n\t(No symbol) [0x00007FF7A23EB79C]\n\t(No symbol) [0x00007FF7A23EB91C]\n\t(No symbol) [0x00007FF7A2426D87]\n\t(No symbol) [0x00007FF7A240BEAF]\n\t(No symbol) [0x00007FF7A2424D02]\n\t(No symbol) [0x00007FF7A240BC43]\n\t(No symbol) [0x00007FF7A23E0941]\n\t(No symbol) [0x00007FF7A23E1B84]\n\tGetHandleVerifier [0x00007FF7A28D7F52+3524194]\n\tGetHandleVerifier [0x00007FF7A292D800+3874576]\n\tGetHandleVerifier [0x00007FF7A2925D7F+3843215]\n\tGetHandleVerifier [0x00007FF7A2625086+694166]\n\t(No symbol) [0x00007FF7A2500A88]\n\t(No symbol) [0x00007FF7A24FCA94]\n\t(No symbol) [0x00007FF7A24FCBC2]\n\t(No symbol) [0x00007FF7A24ECC83]\n\tBaseThreadInitThunk [0x00007FF8387D257D+29]\n\tRtlUserThreadStart [0x00007FF839D0AA58+40]\n"
     ]
    }
   ],
   "source": [
    "#LOCAL DE ENVIO\n",
    "label_enviado_de = driver.find_element(By.XPATH, \"//label[contains(text(), 'Enviado de')]/following-sibling::div\")\n",
    "print(label_enviado_de.text)"
   ]
  },
  {
   "cell_type": "code",
   "execution_count": null,
   "id": "7053ea06",
   "metadata": {},
   "outputs": [],
   "source": [
    "#colocar driver.click()"
   ]
  },
  {
   "cell_type": "code",
   "execution_count": 51,
   "id": "3fa12403",
   "metadata": {},
   "outputs": [
    {
     "name": "stdout",
     "output_type": "stream",
     "text": [
      "Loja Nati\n"
     ]
    }
   ],
   "source": [
    "#NOME DA LOJA\n",
    "nome_loja = driver.find_element(By.XPATH, \"//div[@class='VlDReK']\")\n",
    "print(nome_loja.text)"
   ]
  },
  {
   "cell_type": "code",
   "execution_count": 52,
   "id": "5547b964",
   "metadata": {},
   "outputs": [
    {
     "name": "stdout",
     "output_type": "stream",
     "text": [
      "4.9\n"
     ]
    }
   ],
   "source": [
    "avaliacao_prod =driver.find_element(By.XPATH, \"//div[@class='_1k47d8 _046PXf']\")\n",
    "print(avaliacao_prod.text)"
   ]
  },
  {
   "cell_type": "code",
   "execution_count": 53,
   "id": "923b96e3",
   "metadata": {},
   "outputs": [],
   "source": [
    "#avaliacao \n",
    "try:\n",
    "    avaliacao_prod =driver.find_element(By.XPATH, \"//div[@class='_1k47d8 _046PXf']\")\n",
    "    avaliacao_prod = avaliacao_prod.text\n",
    "except (AttributeError, NoSuchElementException, IndexError):\n",
    "    avaliacao_prod = None"
   ]
  },
  {
   "cell_type": "code",
   "execution_count": 54,
   "id": "e6e749a7",
   "metadata": {},
   "outputs": [
    {
     "name": "stdout",
     "output_type": "stream",
     "text": [
      "4.9\n"
     ]
    }
   ],
   "source": [
    "print(avaliacao_prod)"
   ]
  },
  {
   "cell_type": "code",
   "execution_count": 55,
   "id": "3a216985",
   "metadata": {},
   "outputs": [],
   "source": [
    "#desconto\n",
    "try:\n",
    "    desconto_prod = driver.find_element(By.XPATH, \"//div[@class='_0voski']\")\n",
    "    desconto_prod = desconto_prod.text\n",
    "except (AttributeError, NoSuchElementException, IndexError):\n",
    "    desconto_prod = None"
   ]
  },
  {
   "cell_type": "code",
   "execution_count": 56,
   "id": "6c30aedb",
   "metadata": {},
   "outputs": [
    {
     "name": "stdout",
     "output_type": "stream",
     "text": [
      "2% OFF\n"
     ]
    }
   ],
   "source": [
    "print(desconto_prod)"
   ]
  },
  {
   "cell_type": "code",
   "execution_count": null,
   "id": "ad91e538",
   "metadata": {},
   "outputs": [],
   "source": [
    "#local de envio\n",
    "#local envio\n",
    "local_envio = soup.find('div', attrs={'class':'zGGwiV'})\n",
    "print(local_envio.get_text())\n",
    "#local envio\n",
    "local_envio = driver.find_element(By.XPATH, \"//div[@class='zGGwiV']\")\n",
    "print(local_envio.get_text())"
   ]
  },
  {
   "cell_type": "code",
   "execution_count": 25,
   "id": "2615e0bd",
   "metadata": {
    "scrolled": true
   },
   "outputs": [],
   "source": [
    "try:\n",
    "    anuncio = driver.find_elements(By.XPATH, \"//div[@class='Sh+UIZ' and @data-sqe='ad']\")[7]\n",
    "    anuncio = anuncio.text\n",
    "except (AttributeError, NoSuchElementException, IndexError):\n",
    "    anuncio = None"
   ]
  },
  {
   "cell_type": "code",
   "execution_count": 26,
   "id": "36fb08b9",
   "metadata": {
    "scrolled": false
   },
   "outputs": [
    {
     "name": "stdout",
     "output_type": "stream",
     "text": [
      "None\n"
     ]
    }
   ],
   "source": [
    "print(anuncio)"
   ]
  },
  {
   "cell_type": "code",
   "execution_count": null,
   "id": "22b36bea",
   "metadata": {},
   "outputs": [],
   "source": []
  },
  {
   "cell_type": "code",
   "execution_count": null,
   "id": "f9de7c8f",
   "metadata": {},
   "outputs": [],
   "source": [
    " #precos\n",
    "preco = driver.find_element(By.CLASS_NAME, \"ZEgDH9\")\n",
    "preco.append(lista_precos.get_text())\n",
    "#qtde_vendida\n",
    "qtde_vendida = driver.find_element(By.TAG_NAME, \"\")\n",
    "qtde_vendida.get_text().append(lista_qtde)\n",
    "\n",
    "\n"
   ]
  },
  {
   "cell_type": "code",
   "execution_count": null,
   "id": "419db4ea",
   "metadata": {},
   "outputs": [],
   "source": [
    "url_atual = soup.current_url\n",
    "\n",
    "print(f\"O driver está no seguinte URL: {url_atual}\")"
   ]
  },
  {
   "cell_type": "code",
   "execution_count": null,
   "id": "4f0cadcf",
   "metadata": {},
   "outputs": [],
   "source": []
  }
 ],
 "metadata": {
  "kernelspec": {
   "display_name": "Python 3 (ipykernel)",
   "language": "python",
   "name": "python3"
  },
  "language_info": {
   "codemirror_mode": {
    "name": "ipython",
    "version": 3
   },
   "file_extension": ".py",
   "mimetype": "text/x-python",
   "name": "python",
   "nbconvert_exporter": "python",
   "pygments_lexer": "ipython3",
   "version": "3.11.5"
  }
 },
 "nbformat": 4,
 "nbformat_minor": 5
}
